{
 "cells": [
  {
   "cell_type": "markdown",
   "metadata": {},
   "source": [
    "# Python Loops \n",
    "### 1 The for Loop"
   ]
  },
  {
   "cell_type": "raw",
   "metadata": {},
   "source": [
    "for value in sequence:  \n",
    "    { code block }\n",
    "\n",
    "Python's for loop is designed to repeatedly execute a code block while iterating through a list, tuple, dictionary, or other iterable objects of Python. The process of traversing a sequence is known as iteration.\n",
    "for loop is used no of iteration is knows"
   ]
  },
  {
   "cell_type": "code",
   "execution_count": 10,
   "metadata": {},
   "outputs": [
    {
     "name": "stdout",
     "output_type": "stream",
     "text": [
      "The list of squares is [16, 4, 36, 49, 9, 25, 64, 100, 36, 1, 81, 4]\n"
     ]
    }
   ],
   "source": [
    "# Python program to show how the for loop works  \n",
    "  \n",
    "# Creating a sequence which is a tuple of numbers  \n",
    "numbers = [4, 2, 6, 7, 3, 5, 8, 10, 6, 1, 9, 2]  \n",
    "  \n",
    "# variable to store the square of the number  \n",
    "square = 0  \n",
    "  \n",
    "# Creating an empty list  \n",
    "squares = []  \n",
    "  \n",
    "# Creating a for loop  \n",
    "for value in numbers:  \n",
    "    square = value ** 2  \n",
    "    squares.append(square)  \n",
    "print(\"The list of squares is\", squares)  "
   ]
  },
  {
   "cell_type": "markdown",
   "metadata": {},
   "source": [
    "# While Loop"
   ]
  },
  {
   "cell_type": "raw",
   "metadata": {},
   "source": [
    "\n",
    "While loops are used in Python to iterate until a specified condition is met. \n",
    "while loop is used no of iteration is Dosent knows\n",
    "\n",
    "while <condition>:  \n",
    "    { code block } "
   ]
  },
  {
   "cell_type": "code",
   "execution_count": 2,
   "metadata": {},
   "outputs": [
    {
     "name": "stdout",
     "output_type": "stream",
     "text": [
      "name\n",
      "name\n",
      "name\n",
      "name\n",
      "name\n",
      "name\n",
      "name\n",
      "name\n",
      "name\n",
      "name\n"
     ]
    }
   ],
   "source": [
    "count=0\n",
    "while count<10:\n",
    "    print(\"name\")\n",
    "    count=count+1"
   ]
  },
  {
   "cell_type": "markdown",
   "metadata": {},
   "source": [
    "# break statement"
   ]
  },
  {
   "cell_type": "raw",
   "metadata": {},
   "source": [
    "The break is a keyword in python which is used to bring the program control out of the loop. "
   ]
  },
  {
   "cell_type": "code",
   "execution_count": 7,
   "metadata": {},
   "outputs": [
    {
     "name": "stdout",
     "output_type": "stream",
     "text": [
      "found at 1 location\n"
     ]
    }
   ],
   "source": [
    "item=[1,2,3,5,6,4,8,4]\n",
    "count=0\n",
    "for i in item:\n",
    "    if item==4:\n",
    "        print(\"item found\")\n",
    "    count=count+1\n",
    "    break  \n",
    "print(\"found at\",count,\"location\")"
   ]
  },
  {
   "cell_type": "code",
   "execution_count": 9,
   "metadata": {},
   "outputs": [
    {
     "name": "stdout",
     "output_type": "stream",
     "text": [
      "p\n",
      "y\n",
      "t\n"
     ]
    }
   ],
   "source": [
    "str = \"python\"  \n",
    "for i in str:  \n",
    "    if i == 'h':  \n",
    "        break  \n",
    "    print(i);  "
   ]
  },
  {
   "cell_type": "code",
   "execution_count": 14,
   "metadata": {},
   "outputs": [
    {
     "name": "stdout",
     "output_type": "stream",
     "text": [
      "0  1  2  3  4  5  6  7  8  9  came out of while loop\n"
     ]
    }
   ],
   "source": [
    "i = 0;  \n",
    "while 1:  \n",
    "    print(i,\" \",end=\"\"),  \n",
    "    i=i+1;  \n",
    "    if i == 10:  \n",
    "        break;  \n",
    "print(\"came out of while loop\");  "
   ]
  },
  {
   "cell_type": "code",
   "execution_count": 15,
   "metadata": {},
   "outputs": [
    {
     "name": "stdout",
     "output_type": "stream",
     "text": [
      "5 X 1 = 5\n",
      "\n",
      "5 X 2 = 10\n",
      "\n",
      "5 X 3 = 15\n",
      "\n",
      "5 X 4 = 20\n",
      "\n",
      "5 X 5 = 25\n",
      "\n",
      "5 X 6 = 30\n",
      "\n",
      "5 X 7 = 35\n",
      "\n",
      "5 X 8 = 40\n",
      "\n",
      "5 X 9 = 45\n",
      "\n",
      "5 X 10 = 50\n",
      "\n",
      "Do you want to continue printing the table, press 0 for no?\n"
     ]
    },
    {
     "ename": "ValueError",
     "evalue": "invalid literal for int() with base 10: ''",
     "output_type": "error",
     "traceback": [
      "\u001b[1;31m---------------------------------------------------------------------------\u001b[0m",
      "\u001b[1;31mValueError\u001b[0m                                Traceback (most recent call last)",
      "\u001b[1;32m<ipython-input-15-1a6c77c6620a>\u001b[0m in \u001b[0;36m<module>\u001b[1;34m\u001b[0m\n\u001b[0;32m      5\u001b[0m        \u001b[0mprint\u001b[0m\u001b[1;33m(\u001b[0m\u001b[1;34m\"%d X %d = %d\\n\"\u001b[0m\u001b[1;33m%\u001b[0m\u001b[1;33m(\u001b[0m\u001b[0mn\u001b[0m\u001b[1;33m,\u001b[0m\u001b[0mi\u001b[0m\u001b[1;33m,\u001b[0m\u001b[0mn\u001b[0m\u001b[1;33m*\u001b[0m\u001b[0mi\u001b[0m\u001b[1;33m)\u001b[0m\u001b[1;33m)\u001b[0m\u001b[1;33m;\u001b[0m\u001b[1;33m\u001b[0m\u001b[1;33m\u001b[0m\u001b[0m\n\u001b[0;32m      6\u001b[0m        \u001b[0mi\u001b[0m \u001b[1;33m=\u001b[0m \u001b[0mi\u001b[0m\u001b[1;33m+\u001b[0m\u001b[1;36m1\u001b[0m\u001b[1;33m;\u001b[0m\u001b[1;33m\u001b[0m\u001b[1;33m\u001b[0m\u001b[0m\n\u001b[1;32m----> 7\u001b[1;33m    \u001b[0mchoice\u001b[0m \u001b[1;33m=\u001b[0m \u001b[0mint\u001b[0m\u001b[1;33m(\u001b[0m\u001b[0minput\u001b[0m\u001b[1;33m(\u001b[0m\u001b[1;34m\"Do you want to continue printing the table, press 0 for no?\"\u001b[0m\u001b[1;33m)\u001b[0m\u001b[1;33m)\u001b[0m\u001b[1;33m\u001b[0m\u001b[1;33m\u001b[0m\u001b[0m\n\u001b[0m\u001b[0;32m      8\u001b[0m    \u001b[1;32mif\u001b[0m \u001b[0mchoice\u001b[0m \u001b[1;33m==\u001b[0m \u001b[1;36m0\u001b[0m\u001b[1;33m:\u001b[0m\u001b[1;33m\u001b[0m\u001b[1;33m\u001b[0m\u001b[0m\n\u001b[0;32m      9\u001b[0m        \u001b[1;32mbreak\u001b[0m\u001b[1;33m;\u001b[0m\u001b[1;33m\u001b[0m\u001b[1;33m\u001b[0m\u001b[0m\n",
      "\u001b[1;31mValueError\u001b[0m: invalid literal for int() with base 10: ''"
     ]
    }
   ],
   "source": [
    " n=5\n",
    "while 1:  \n",
    "    i=1;  \n",
    "    while i<=10:  \n",
    "        print(\"%d X %d = %d\\n\"%(n,i,n*i));  \n",
    "        i = i+1;  \n",
    "    choice = int(input(\"Do you want to continue printing the table, press 0 for no?\"))  \n",
    "    if choice == 0:  \n",
    "        break;      \n",
    "    n=n+1  "
   ]
  },
  {
   "cell_type": "markdown",
   "metadata": {},
   "source": [
    "#  continue Keyword"
   ]
  },
  {
   "cell_type": "raw",
   "metadata": {},
   "source": [
    "It takes the control back to the start of the loop."
   ]
  },
  {
   "cell_type": "code",
   "execution_count": 10,
   "metadata": {},
   "outputs": [
    {
     "ename": "SyntaxError",
     "evalue": "invalid syntax (3861715520.py, line 7)",
     "output_type": "error",
     "traceback": [
      "\u001b[1;36m  File \u001b[1;32m\"C:\\Users\\91938\\AppData\\Local\\Temp\\ipykernel_6248\\3861715520.py\"\u001b[1;36m, line \u001b[1;32m7\u001b[0m\n\u001b[1;33m    if iterator == 15,17:\u001b[0m\n\u001b[1;37m                     ^\u001b[0m\n\u001b[1;31mSyntaxError\u001b[0m\u001b[1;31m:\u001b[0m invalid syntax\n"
     ]
    }
   ],
   "source": [
    "# Python code to show example of continue statement  \n",
    "   \n",
    "# looping from 10 to 20  \n",
    "for iterator in range(10, 21):  \n",
    "   \n",
    "    # If iterator is equals to 15, loop will continue to the next iteration  \n",
    "    if iterator == [15,17:  \n",
    "        continue  \n",
    "    # otherwise printing the value of iterator  \n",
    "    print( iterator )  "
   ]
  },
  {
   "cell_type": "markdown",
   "metadata": {},
   "source": [
    "# Pass Statement"
   ]
  },
  {
   "cell_type": "raw",
   "metadata": {},
   "source": [
    "pass is used to creat empty class and funcation"
   ]
  },
  {
   "cell_type": "code",
   "execution_count": 17,
   "metadata": {},
   "outputs": [],
   "source": [
    "# Python program to show how to create an empty function and an empty class  \n",
    "  \n",
    "# Empty function:  \n",
    "def empty():  \n",
    "    pass  \n",
    "  \n",
    "# Empty class  \n",
    "class Empty:  \n",
    "    pass  "
   ]
  },
  {
   "cell_type": "code",
   "execution_count": null,
   "metadata": {},
   "outputs": [],
   "source": []
  }
 ],
 "metadata": {
  "kernelspec": {
   "display_name": "Python 3 (ipykernel)",
   "language": "python",
   "name": "python3"
  },
  "language_info": {
   "codemirror_mode": {
    "name": "ipython",
    "version": 3
   },
   "file_extension": ".py",
   "mimetype": "text/x-python",
   "name": "python",
   "nbconvert_exporter": "python",
   "pygments_lexer": "ipython3",
   "version": "3.9.13"
  }
 },
 "nbformat": 4,
 "nbformat_minor": 4
}
