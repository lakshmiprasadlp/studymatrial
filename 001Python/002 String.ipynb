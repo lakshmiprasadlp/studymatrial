{
 "cells": [
  {
   "cell_type": "markdown",
   "metadata": {},
   "source": [
    "# Python String"
   ]
  },
  {
   "cell_type": "raw",
   "metadata": {},
   "source": [
    "Python string is the collection of the characters surrounded by single quotes, double quotes, or triple quotes.\n",
    "\n",
    "Each character is encoded in the ASCII or Unicode character. So we can say that Python strings are also called the collection of Unicode characters."
   ]
  },
  {
   "cell_type": "code",
   "execution_count": 14,
   "metadata": {},
   "outputs": [
    {
     "name": "stdout",
     "output_type": "stream",
     "text": [
      "<class 'str'>\n"
     ]
    }
   ],
   "source": [
    "\n",
    "str = \"Hi Python !\"    \n",
    "print(type(str))"
   ]
  },
  {
   "cell_type": "code",
   "execution_count": 19,
   "metadata": {},
   "outputs": [
    {
     "name": "stdout",
     "output_type": "stream",
     "text": [
      "Hello Python\n",
      "Hello Python\n",
      "''Triple quotes are generally used for  \n",
      "    represent the multiline or \n",
      "    docstring\n"
     ]
    }
   ],
   "source": [
    "\n",
    "str1 = 'Hello Python'\n",
    "\n",
    "\n",
    "print(str1)  \n",
    "#Using double quotes  \n",
    "str2 = \"Hello Python\" \n",
    "print(str2)  \n",
    "  \n",
    "#Using triple quotes  \n",
    "str3 = '''''Triple quotes are generally used for  \n",
    "    represent the multiline or \n",
    "    docstring'''   \n",
    "print(str3)  "
   ]
  },
  {
   "cell_type": "raw",
   "metadata": {},
   "source": [
    "Strings indexing and splitting"
   ]
  },
  {
   "cell_type": "code",
   "execution_count": 20,
   "metadata": {},
   "outputs": [
    {
     "name": "stdout",
     "output_type": "stream",
     "text": [
      "H\n",
      "E\n",
      "L\n",
      "L\n",
      "O\n",
      " \n",
      "w\n"
     ]
    }
   ],
   "source": [
    "str = \"HELLO w\"  \n",
    "print(str[0])  \n",
    "print(str[1])  \n",
    "print(str[2])  \n",
    "print(str[3])  \n",
    "print(str[4])  \n",
    "# It returns the IndexError because 6th index doesn't exist  \n",
    "print(str[5])\n",
    "print(str[6])"
   ]
  },
  {
   "cell_type": "code",
   "execution_count": 4,
   "metadata": {},
   "outputs": [
    {
     "name": "stdout",
     "output_type": "stream",
     "text": [
      "w\n",
      " \n",
      "O\n"
     ]
    }
   ],
   "source": [
    "print(str[-1])\n",
    "print(str[-2])\n",
    "print(str[-3])"
   ]
  },
  {
   "cell_type": "code",
   "execution_count": 21,
   "metadata": {},
   "outputs": [
    {
     "name": "stdout",
     "output_type": "stream",
     "text": [
      "LAKSHMIPRASAD\n",
      "AKSH\n",
      "KS\n",
      "LAK\n",
      "HMI\n"
     ]
    }
   ],
   "source": [
    "# Given String  \n",
    "str = \"LAKSHMIPRASAD\"  \n",
    "# Start Oth index to end  \n",
    "print(str[0:])  \n",
    "# Starts 1th index to 4th index  \n",
    "print(str[1:5])  \n",
    "# Starts 2nd index to 3rd index  \n",
    "print(str[2:4])  \n",
    "# Starts 0th to 2nd index  \n",
    "print(str[:3])  \n",
    "#Starts 4th to 6th index  \n",
    "print(str[4:7])  "
   ]
  },
  {
   "cell_type": "code",
   "execution_count": 22,
   "metadata": {},
   "outputs": [
    {
     "name": "stdout",
     "output_type": "stream",
     "text": [
      "D\n",
      "S\n",
      "AD\n",
      "ASA\n",
      "IPRAS\n",
      "DASARPIMHSKAL\n",
      "A\n"
     ]
    }
   ],
   "source": [
    "str = \"LAKSHMIPRASAD\"  \n",
    "print(str[-1])  \n",
    "print(str[-3])  \n",
    "print(str[-2:])  \n",
    "print(str[-4:-1])  \n",
    "print(str[-7:-2])  \n",
    "# Reversing the given string  \n",
    "print(str[::-1])  \n",
    "print(str[-12])  "
   ]
  },
  {
   "cell_type": "raw",
   "metadata": {},
   "source": [
    "Reassigning Strings"
   ]
  },
  {
   "cell_type": "code",
   "execution_count": 23,
   "metadata": {},
   "outputs": [
    {
     "ename": "TypeError",
     "evalue": "'str' object does not support item assignment",
     "output_type": "error",
     "traceback": [
      "\u001b[1;31m---------------------------------------------------------------------------\u001b[0m",
      "\u001b[1;31mTypeError\u001b[0m                                 Traceback (most recent call last)",
      "\u001b[1;32m~\\AppData\\Local\\Temp\\ipykernel_22124\\3847182040.py\u001b[0m in \u001b[0;36m<module>\u001b[1;34m\u001b[0m\n\u001b[0;32m      1\u001b[0m \u001b[0mstr1\u001b[0m \u001b[1;33m=\u001b[0m \u001b[1;34m\"HELLO\"\u001b[0m\u001b[1;33m\u001b[0m\u001b[1;33m\u001b[0m\u001b[0m\n\u001b[1;32m----> 2\u001b[1;33m \u001b[0mstr1\u001b[0m\u001b[1;33m[\u001b[0m\u001b[1;36m2\u001b[0m\u001b[1;33m]\u001b[0m \u001b[1;33m=\u001b[0m \u001b[1;34m\"h\"\u001b[0m\u001b[1;33m\u001b[0m\u001b[1;33m\u001b[0m\u001b[0m\n\u001b[0m\u001b[0;32m      3\u001b[0m \u001b[0mprint\u001b[0m\u001b[1;33m(\u001b[0m\u001b[0mstr1\u001b[0m\u001b[1;33m)\u001b[0m\u001b[1;33m\u001b[0m\u001b[1;33m\u001b[0m\u001b[0m\n",
      "\u001b[1;31mTypeError\u001b[0m: 'str' object does not support item assignment"
     ]
    }
   ],
   "source": [
    "str1 = \"HELLO\"    \n",
    "str1[2] = \"h\"    \n",
    "print(str1)    "
   ]
  },
  {
   "cell_type": "code",
   "execution_count": 24,
   "metadata": {},
   "outputs": [
    {
     "ename": "TypeError",
     "evalue": "'str' object doesn't support item deletion",
     "output_type": "error",
     "traceback": [
      "\u001b[1;31m---------------------------------------------------------------------------\u001b[0m",
      "\u001b[1;31mTypeError\u001b[0m                                 Traceback (most recent call last)",
      "\u001b[1;32m~\\AppData\\Local\\Temp\\ipykernel_22124\\913869490.py\u001b[0m in \u001b[0;36m<module>\u001b[1;34m\u001b[0m\n\u001b[0;32m      1\u001b[0m \u001b[0mstr\u001b[0m \u001b[1;33m=\u001b[0m \u001b[1;34m\"JAVATPOINT\"\u001b[0m\u001b[1;33m\u001b[0m\u001b[1;33m\u001b[0m\u001b[0m\n\u001b[1;32m----> 2\u001b[1;33m \u001b[1;32mdel\u001b[0m \u001b[0mstr\u001b[0m\u001b[1;33m[\u001b[0m\u001b[1;36m1\u001b[0m\u001b[1;33m]\u001b[0m\u001b[1;33m\u001b[0m\u001b[1;33m\u001b[0m\u001b[0m\n\u001b[0m",
      "\u001b[1;31mTypeError\u001b[0m: 'str' object doesn't support item deletion"
     ]
    }
   ],
   "source": [
    "str = \"JAVATPOINT\"  \n",
    "del str[1]  "
   ]
  },
  {
   "cell_type": "code",
   "execution_count": 25,
   "metadata": {},
   "outputs": [
    {
     "name": "stdout",
     "output_type": "stream",
     "text": [
      "HELLO\n",
      "hello\n"
     ]
    }
   ],
   "source": [
    "str = \"HELLO\"    \n",
    "print(str)    \n",
    "str = \"hello\"    \n",
    "print(str)    "
   ]
  },
  {
   "cell_type": "markdown",
   "metadata": {},
   "source": [
    "# String Operators"
   ]
  },
  {
   "cell_type": "code",
   "execution_count": 26,
   "metadata": {},
   "outputs": [
    {
     "name": "stdout",
     "output_type": "stream",
     "text": [
      "HelloHelloHello\n",
      "Hello world\n",
      "o\n",
      "ll\n",
      "False\n",
      "False\n",
      "C://python37\n",
      "The string str : Hello\n"
     ]
    }
   ],
   "source": [
    "str = \"Hello\"     \n",
    "str1 = \" world\"    \n",
    "print(str*3) # prints HelloHelloHello    \n",
    "print(str+str1)# prints Hello world     \n",
    "print(str[4]) # prints o                \n",
    "print(str[2:4]); # prints ll                    \n",
    "print('w' in str) # prints false as w is not present in str    \n",
    "print('wo' not in str1) # prints false as wo is present in str1.     \n",
    "print(r'C://python37') # prints C://python37 as it is written    \n",
    "print(\"The string str : %s\"%(str)) # prints The string str : Hello   "
   ]
  },
  {
   "cell_type": "markdown",
   "metadata": {},
   "source": [
    "# String functions"
   ]
  },
  {
   "cell_type": "raw",
   "metadata": {},
   "source": [
    "Python capitalize() method converts first character of the string into uppercase without altering the whole string. It changes the first character only and skips rest of the string unchanged."
   ]
  },
  {
   "cell_type": "code",
   "execution_count": 27,
   "metadata": {},
   "outputs": [
    {
     "name": "stdout",
     "output_type": "stream",
     "text": [
      "Old value: javatpoint\n",
      "New value: Javatpoint\n"
     ]
    }
   ],
   "source": [
    "# Python capitalize() function example  \n",
    "# Variable declaration  \n",
    "str = \"javatpoint\"  \n",
    "# Calling function  \n",
    "str2 = str.capitalize()  \n",
    "# Displaying result  \n",
    "print(\"Old value:\", str)  \n",
    "print(\"New value:\", str2)  "
   ]
  },
  {
   "cell_type": "code",
   "execution_count": 28,
   "metadata": {},
   "outputs": [
    {
     "name": "stdout",
     "output_type": "stream",
     "text": [
      "Old value: Javatpoint\n",
      "New value: Javatpoint\n"
     ]
    }
   ],
   "source": [
    "# Python capitalize() function example  \n",
    "# Variable declaration  \n",
    "str = \"Javatpoint\"  \n",
    "# Calling function  \n",
    "str2 = str.capitalize()  \n",
    "# Displaying result  \n",
    "print(\"Old value:\", str)  \n",
    "print(\"New value:\", str2)  "
   ]
  },
  {
   "cell_type": "code",
   "execution_count": 10,
   "metadata": {},
   "outputs": [
    {
     "name": "stdout",
     "output_type": "stream",
     "text": [
      "Old value: #javatpoint\n",
      "New value: #javatpoint\n",
      "--------digit---------\n",
      "Old value: 1-javatpoint\n",
      "New value: 1-javatpoint\n"
     ]
    }
   ],
   "source": [
    "# Python capitalize() function example  \n",
    "# Variable declaration  \n",
    "str = \"#javatpoint\"  \n",
    "# Calling function  \n",
    "str2 = str.capitalize()  \n",
    "# Displaying result  \n",
    "print(\"Old value:\", str)  \n",
    "print(\"New value:\", str2)  \n",
    "print(\"--------digit---------\")  \n",
    "str3 = \"1-javatpoint\"  \n",
    "str4 = str3.capitalize()  \n",
    "print(\"Old value:\", str3)  \n",
    "print(\"New value:\", str4)  "
   ]
  },
  {
   "cell_type": "raw",
   "metadata": {},
   "source": [
    "Python Casefold() method returns a lowercase copy of the string. It is more simillar to lowercase method except it revomes all case distinctions present in the string."
   ]
  },
  {
   "cell_type": "code",
   "execution_count": 29,
   "metadata": {},
   "outputs": [
    {
     "name": "stdout",
     "output_type": "stream",
     "text": [
      "Old value: lakshmiPRASAD\n",
      "New value: lakshmiprasad\n"
     ]
    }
   ],
   "source": [
    "# Python casefold() function example  \n",
    "# Variable declaration  \n",
    "str = \"lakshmiPRASAD\"  \n",
    "# Calling function  \n",
    "str2 = str.casefold()  \n",
    "# Displaying result  \n",
    "print(\"Old value:\", str)  \n",
    "print(\"New value:\", str2)  "
   ]
  },
  {
   "cell_type": "raw",
   "metadata": {},
   "source": [
    "Pyhon center() method alligns string to the center by filling paddings left and right of the string. This method takes two parameters, first is a width and second is a fillchar which is optional. The fillchar is a character which is used to fill left and right padding of the string."
   ]
  },
  {
   "cell_type": "code",
   "execution_count": 30,
   "metadata": {},
   "outputs": [
    {
     "name": "stdout",
     "output_type": "stream",
     "text": [
      "Old value: Hello lakshmiprasad\n",
      "New value: Hello lakshmiprasad \n"
     ]
    }
   ],
   "source": [
    "# Python center() function example  \n",
    "# Variable declaration  \n",
    "str = \"Hello lakshmiprasad\"  \n",
    "# Calling function  \n",
    "str2 = str.center(20)  \n",
    "# Displaying result  \n",
    "print(\"Old value:\", str)  \n",
    "print(\"New value:\", str2)  "
   ]
  },
  {
   "cell_type": "code",
   "execution_count": 31,
   "metadata": {},
   "outputs": [
    {
     "name": "stdout",
     "output_type": "stream",
     "text": [
      "Old value: Hello lakshmiprasad\n",
      "New value: *Hello lakshmiprasad*\n"
     ]
    }
   ],
   "source": [
    "# Python center() function example  \n",
    "# Variable declaration  \n",
    "str = \"Hello lakshmiprasad\"  \n",
    "# Calling function  \n",
    "str2 = str.center(21,'*')  \n",
    "# Displaying result  \n",
    "print(\"Old value:\", str)  \n",
    "print(\"New value:\", str2)  "
   ]
  },
  {
   "cell_type": "code",
   "execution_count": 32,
   "metadata": {},
   "outputs": [
    {
     "name": "stdout",
     "output_type": "stream",
     "text": [
      "Old value: Hello lakshmipras\n",
      "New value: !Hello lakshmipras!!\n"
     ]
    }
   ],
   "source": [
    "# Python center() function example  \n",
    "# Variable declaration  \n",
    "str = \"Hello lakshmipras\"  \n",
    "if str == \"Hell0 lakshmipras\":  \n",
    "    str2 = str.center(20,'#')  \n",
    "else:  \n",
    "    str2 = str.center(20,'!')  \n",
    "# Displaying result  \n",
    "print(\"Old value:\", str)  \n",
    "print(\"New value:\", str2)  "
   ]
  },
  {
   "cell_type": "raw",
   "metadata": {},
   "source": [
    "count(sub[, start[, end]]) :- It returns the number of occurences of substring in the specified range. It takes three parameters, first is a substring, second a start index and third is last index of the range. Start and end both are optional whereas substring is required."
   ]
  },
  {
   "cell_type": "code",
   "execution_count": 33,
   "metadata": {},
   "outputs": [
    {
     "name": "stdout",
     "output_type": "stream",
     "text": [
      "occurences: 3\n"
     ]
    }
   ],
   "source": [
    "# Python count() function example  \n",
    "# Variable declaration  \n",
    "str = \"Hello lakshmiprasad\"  \n",
    "str2 = str.count('a')  \n",
    "# Displaying result  \n",
    "print(\"occurences:\", str2) "
   ]
  },
  {
   "cell_type": "code",
   "execution_count": 34,
   "metadata": {},
   "outputs": [
    {
     "name": "stdout",
     "output_type": "stream",
     "text": [
      "occurences: 0\n"
     ]
    }
   ],
   "source": [
    "str = \"ab bc ca de ed ad da ab bc ca\"  \n",
    "oc = str.count('a',2,7)  \n",
    "# Displaying result  \n",
    "print(\"occurences:\", oc)  "
   ]
  },
  {
   "cell_type": "code",
   "execution_count": 35,
   "metadata": {},
   "outputs": [
    {
     "name": "stdout",
     "output_type": "stream",
     "text": [
      "occurences: 3\n"
     ]
    }
   ],
   "source": [
    "# Python count() function example  \n",
    "# Variable declaration  \n",
    "str = \"ab bc ca de ed ad da ab bc ca 12 23 35 62\"  \n",
    "oc = str.count('2')  \n",
    "# Displaying result  \n",
    "print(\"occurences:\", oc)  "
   ]
  },
  {
   "cell_type": "raw",
   "metadata": {},
   "source": [
    "endswith(suffix ,begin=0,end=len(string))\n",
    "It returns a Boolean value if the string terminates with given suffix between begin and end."
   ]
  },
  {
   "cell_type": "code",
   "execution_count": 36,
   "metadata": {},
   "outputs": [
    {
     "name": "stdout",
     "output_type": "stream",
     "text": [
      "True\n"
     ]
    }
   ],
   "source": [
    "# Python endswith() function example  \n",
    "# Variable declaration  \n",
    "str = \"Hello this is lakshmiprasad.\"  \n",
    "isends = str.endswith(\".\")  \n",
    "# Displaying result  \n",
    "print(isends)"
   ]
  },
  {
   "cell_type": "code",
   "execution_count": 37,
   "metadata": {},
   "outputs": [
    {
     "name": "stdout",
     "output_type": "stream",
     "text": [
      "False\n"
     ]
    }
   ],
   "source": [
    "isends = str.endswith(\"is\")  \n",
    "# Displaying result  \n",
    "print(isends)  "
   ]
  },
  {
   "cell_type": "code",
   "execution_count": 38,
   "metadata": {},
   "outputs": [
    {
     "name": "stdout",
     "output_type": "stream",
     "text": [
      "False\n"
     ]
    }
   ],
   "source": [
    "isends = str.endswith(\"is\",10)  \n",
    "# Displaying result  \n",
    "print(isends)  "
   ]
  },
  {
   "cell_type": "code",
   "execution_count": 39,
   "metadata": {},
   "outputs": [
    {
     "name": "stdout",
     "output_type": "stream",
     "text": [
      "True\n"
     ]
    }
   ],
   "source": [
    "isends = str.endswith(\"is\",0,13)  \n",
    "# Displaying result  \n",
    "print(isends) "
   ]
  },
  {
   "cell_type": "raw",
   "metadata": {},
   "source": [
    "expandtabs(tabsize = 8)\n",
    "It defines tabs in string to multiple spaces. The default space value is 8."
   ]
  },
  {
   "cell_type": "code",
   "execution_count": 40,
   "metadata": {},
   "outputs": [
    {
     "name": "stdout",
     "output_type": "stream",
     "text": [
      "Welcome          to      the     lakshmiprasad.\n"
     ]
    }
   ],
   "source": [
    "# Python endswith() function example  \n",
    "# Variable declaration  \n",
    "str = \"Welcome \\t to \\t the \\t lakshmiprasad.\"  \n",
    "# Calling function  \n",
    "str2 = str.expandtabs()  \n",
    "# Displaying result  \n",
    "print(str2)  "
   ]
  },
  {
   "cell_type": "code",
   "execution_count": 41,
   "metadata": {},
   "outputs": [
    {
     "name": "stdout",
     "output_type": "stream",
     "text": [
      "Welcome   to   the   lakshmiprasad.\n",
      "Welcome    to    the   lakshmiprasad.\n",
      "Welcome      to      the     lakshmiprasad.\n"
     ]
    }
   ],
   "source": [
    "str2 = str.expandtabs(1)  \n",
    "str3 = str.expandtabs(2)  \n",
    "str4 = str.expandtabs(4)  \n",
    "# Displaying result  \n",
    "print(str2)  \n",
    "print(str3)  \n",
    "print(str4)  "
   ]
  },
  {
   "cell_type": "raw",
   "metadata": {},
   "source": [
    "Python find(sub[, start[, end]) method finds substring in the whole string and returns index of the first match. It returns -1 if substring does not match."
   ]
  },
  {
   "cell_type": "code",
   "execution_count": 42,
   "metadata": {},
   "outputs": [
    {
     "name": "stdout",
     "output_type": "stream",
     "text": [
      "15\n"
     ]
    }
   ],
   "source": [
    "# Calling function  \n",
    "str2 = str.find(\"the\")  \n",
    "# Displaying result  \n",
    "print(str2)  "
   ]
  },
  {
   "cell_type": "code",
   "execution_count": 43,
   "metadata": {},
   "outputs": [
    {
     "name": "stdout",
     "output_type": "stream",
     "text": [
      "-1\n"
     ]
    }
   ],
   "source": [
    "str2 = str.find(\"is\")  \n",
    "# Displaying result  \n",
    "print(str2)  "
   ]
  },
  {
   "cell_type": "code",
   "execution_count": 44,
   "metadata": {},
   "outputs": [
    {
     "name": "stdout",
     "output_type": "stream",
     "text": [
      "10\n",
      "-1\n"
     ]
    }
   ],
   "source": [
    "# Calling function  \n",
    "str2 = str.find(\"t\")  \n",
    "str3 = str.find(\"t\",25)  \n",
    "# Displaying result  \n",
    "print(str2)  \n",
    "print(str3)  "
   ]
  },
  {
   "cell_type": "code",
   "execution_count": 45,
   "metadata": {},
   "outputs": [
    {
     "name": "stdout",
     "output_type": "stream",
     "text": [
      "10\n",
      "-1\n"
     ]
    }
   ],
   "source": [
    "str2 = str.find(\"t\")  \n",
    "str3 = str.find(\"t\",20,25)  \n",
    "# Displaying result  \n",
    "print(str2)  \n",
    "print(str3)"
   ]
  },
  {
   "cell_type": "raw",
   "metadata": {},
   "source": [
    "format(value)\n",
    "It returns a formatted version of S, using the passed value."
   ]
  },
  {
   "cell_type": "code",
   "execution_count": 46,
   "metadata": {},
   "outputs": [
    {
     "name": "stdout",
     "output_type": "stream",
     "text": [
      "Java and C# both are programming languages\n"
     ]
    }
   ],
   "source": [
    "# Python format() function example  \n",
    "# Variable declaration  \n",
    "str = \"Java\"  \n",
    "str2 = \"C#\"  \n",
    "# Calling function  \n",
    "str3 = \"{} and {} both are programming languages\".format(str,str2)  \n",
    "# Displaying result  \n",
    "print(str3)  "
   ]
  },
  {
   "cell_type": "code",
   "execution_count": 50,
   "metadata": {},
   "outputs": [
    {
     "name": "stdout",
     "output_type": "stream",
     "text": [
      "C# and Java both are programming languages\n"
     ]
    }
   ],
   "source": [
    "# Python format() function example  \n",
    "# Variable declaration  \n",
    "str = \"Java\"  \n",
    "str2 = \"C#\"  \n",
    "# Calling function  \n",
    "str3 = \"{1} and {0} both are programming languages\".format(str,str2)  \n",
    "# Displaying result  \n",
    "print(str3)  "
   ]
  },
  {
   "cell_type": "code",
   "execution_count": 51,
   "metadata": {},
   "outputs": [
    {
     "name": "stdout",
     "output_type": "stream",
     "text": [
      "decimal: 10\n",
      "hex: a\n",
      "octal: 12\n",
      "binary: 1010\n"
     ]
    }
   ],
   "source": [
    "# Python format() function example  \n",
    "# Variable declaration  \n",
    "val = 10  \n",
    "# Calling function  \n",
    "print(\"decimal: {0:d}\".format(val)); # display decimal result  \n",
    "print(\"hex: {0:x}\".format(val));     # display hexadecimal result  \n",
    "print(\"octal: {0:o}\".format(val));   # display octal result  \n",
    "print(\"binary: {0:b}\".format(val));  # display binary result  "
   ]
  },
  {
   "cell_type": "code",
   "execution_count": 52,
   "metadata": {},
   "outputs": [
    {
     "name": "stdout",
     "output_type": "stream",
     "text": [
      "decimal: 100,000,000\n",
      "decimal: 622.22%\n"
     ]
    }
   ],
   "source": [
    "# Python format() function example  \n",
    "# Variable declaration  \n",
    "val = 100000000  \n",
    "# Calling function  \n",
    "print(\"decimal: {:,}\".format(val)); # formatting float value  \n",
    "print(\"decimal: {:.2%}\".format(56/9)); # formatting percentile value  "
   ]
  },
  {
   "cell_type": "raw",
   "metadata": {},
   "source": [
    "index(subsring, beginIndex, endIndex)\t\n",
    "It throws an exception if string is not found. It works same as find() method."
   ]
  },
  {
   "cell_type": "code",
   "execution_count": 65,
   "metadata": {},
   "outputs": [
    {
     "name": "stdout",
     "output_type": "stream",
     "text": [
      "19\n"
     ]
    }
   ],
   "source": [
    "# Python index() function example  \n",
    "# Variable declaration  \n",
    "str = \"Welcome to the prasad.\"  \n",
    "# Calling function  \n",
    "str2 = str.index(\"ad\")  \n",
    "# Displaying result  \n",
    "print(str2) "
   ]
  },
  {
   "cell_type": "code",
   "execution_count": 66,
   "metadata": {},
   "outputs": [
    {
     "ename": "ValueError",
     "evalue": "substring not found",
     "output_type": "error",
     "traceback": [
      "\u001b[1;31m---------------------------------------------------------------------------\u001b[0m",
      "\u001b[1;31mValueError\u001b[0m                                Traceback (most recent call last)",
      "\u001b[1;32m~\\AppData\\Local\\Temp\\ipykernel_22124\\1239614431.py\u001b[0m in \u001b[0;36m<module>\u001b[1;34m\u001b[0m\n\u001b[0;32m      1\u001b[0m \u001b[1;31m# Calling function\u001b[0m\u001b[1;33m\u001b[0m\u001b[1;33m\u001b[0m\u001b[0m\n\u001b[1;32m----> 2\u001b[1;33m \u001b[0mstr2\u001b[0m \u001b[1;33m=\u001b[0m \u001b[0mstr\u001b[0m\u001b[1;33m.\u001b[0m\u001b[0mindex\u001b[0m\u001b[1;33m(\u001b[0m\u001b[1;34m\"ate\"\u001b[0m\u001b[1;33m)\u001b[0m\u001b[1;33m\u001b[0m\u001b[1;33m\u001b[0m\u001b[0m\n\u001b[0m\u001b[0;32m      3\u001b[0m \u001b[1;31m# Displaying result\u001b[0m\u001b[1;33m\u001b[0m\u001b[1;33m\u001b[0m\u001b[0m\n\u001b[0;32m      4\u001b[0m \u001b[0mprint\u001b[0m\u001b[1;33m(\u001b[0m\u001b[0mstr2\u001b[0m\u001b[1;33m)\u001b[0m\u001b[1;33m\u001b[0m\u001b[1;33m\u001b[0m\u001b[0m\n",
      "\u001b[1;31mValueError\u001b[0m: substring not found"
     ]
    }
   ],
   "source": [
    "\n",
    "# Calling function  \n",
    "str2 = str.index(\"ate\")  \n",
    "# Displaying result  \n",
    "print(str2)  "
   ]
  },
  {
   "cell_type": "code",
   "execution_count": 55,
   "metadata": {},
   "outputs": [
    {
     "ename": "ValueError",
     "evalue": "substring not found",
     "output_type": "error",
     "traceback": [
      "\u001b[1;31m---------------------------------------------------------------------------\u001b[0m",
      "\u001b[1;31mValueError\u001b[0m                                Traceback (most recent call last)",
      "\u001b[1;32m~\\AppData\\Local\\Temp\\ipykernel_22124\\1238574258.py\u001b[0m in \u001b[0;36m<module>\u001b[1;34m\u001b[0m\n\u001b[1;32m----> 1\u001b[1;33m \u001b[0mstr2\u001b[0m \u001b[1;33m=\u001b[0m \u001b[0mstr\u001b[0m\u001b[1;33m.\u001b[0m\u001b[0mindex\u001b[0m\u001b[1;33m(\u001b[0m\u001b[1;34m\"p\"\u001b[0m\u001b[1;33m,\u001b[0m\u001b[1;36m19\u001b[0m\u001b[1;33m,\u001b[0m\u001b[1;36m21\u001b[0m\u001b[1;33m)\u001b[0m\u001b[1;33m\u001b[0m\u001b[1;33m\u001b[0m\u001b[0m\n\u001b[0m\u001b[0;32m      2\u001b[0m \u001b[1;31m# Displaying result\u001b[0m\u001b[1;33m\u001b[0m\u001b[1;33m\u001b[0m\u001b[0m\n\u001b[0;32m      3\u001b[0m \u001b[0mprint\u001b[0m\u001b[1;33m(\u001b[0m\u001b[1;34m\"p is present at :\"\u001b[0m\u001b[1;33m,\u001b[0m\u001b[0mstr2\u001b[0m\u001b[1;33m,\u001b[0m\u001b[1;34m\"index\"\u001b[0m\u001b[1;33m)\u001b[0m\u001b[1;33m\u001b[0m\u001b[1;33m\u001b[0m\u001b[0m\n",
      "\u001b[1;31mValueError\u001b[0m: substring not found"
     ]
    }
   ],
   "source": [
    "str2 = str.index(\"p\",19,21)  \n",
    "# Displaying result  \n",
    "print(\"p is present at :\",str2,\"index\")  "
   ]
  },
  {
   "cell_type": "raw",
   "metadata": {},
   "source": [
    "Python isalnum() \n",
    "method checks whether the all characters of the string is alphanumeric or not. A character which is either a letter or a number is known as alphanumeric. It does not allow special chars even spaces."
   ]
  },
  {
   "cell_type": "code",
   "execution_count": 56,
   "metadata": {},
   "outputs": [
    {
     "name": "stdout",
     "output_type": "stream",
     "text": [
      "True\n"
     ]
    }
   ],
   "source": [
    "# Python isalnum() function example  \n",
    "# Variable declaration  \n",
    "str = \"Welcome\"  \n",
    "# Calling function  \n",
    "str2 = str.isalnum()  \n",
    "# Displaying result  \n",
    "print(str2)  "
   ]
  },
  {
   "cell_type": "code",
   "execution_count": 57,
   "metadata": {},
   "outputs": [
    {
     "name": "stdout",
     "output_type": "stream",
     "text": [
      "True\n"
     ]
    }
   ],
   "source": [
    "\n",
    "str = \"Welcome\"  \n",
    "str2 = str.isalnum()  \n",
    "# Displaying result  \n",
    "print(str2)  "
   ]
  },
  {
   "cell_type": "code",
   "execution_count": 58,
   "metadata": {},
   "outputs": [
    {
     "name": "stdout",
     "output_type": "stream",
     "text": [
      "True\n",
      "False\n"
     ]
    }
   ],
   "source": [
    "str = \"Welcome123\" # True  \n",
    "str3 = \"Welcome 123\" # False  \n",
    "# Calling function  \n",
    "str2 = str.isalnum()  \n",
    "str4 = str3.isalnum()  \n",
    "# Displaying result  \n",
    "print(str2)  \n",
    "print(str4)  "
   ]
  },
  {
   "cell_type": "code",
   "execution_count": 59,
   "metadata": {},
   "outputs": [
    {
     "name": "stdout",
     "output_type": "stream",
     "text": [
      "True\n"
     ]
    }
   ],
   "source": [
    "# Python isalnum() function example  \n",
    "# Variable declaration  \n",
    "str = \"123456\"  \n",
    "# Calling function  \n",
    "str2 = str.isalnum()  \n",
    "# Displaying result  \n",
    "print(str2)  "
   ]
  },
  {
   "cell_type": "raw",
   "metadata": {},
   "source": [
    "Python isalpha() method returns true if all characters in the string are alphabetic. It returns False if the characters are not alphabetic. It returns either True or False."
   ]
  },
  {
   "cell_type": "code",
   "execution_count": 60,
   "metadata": {},
   "outputs": [
    {
     "name": "stdout",
     "output_type": "stream",
     "text": [
      "True\n"
     ]
    }
   ],
   "source": [
    "# Python isalpha() method example  \n",
    "# Variable declaration  \n",
    "str = \"Javatpoint\"  \n",
    "# Calling function  \n",
    "str2 = str.isalpha()  \n",
    "# Displaying result  \n",
    "print(str2)  "
   ]
  },
  {
   "cell_type": "code",
   "execution_count": 61,
   "metadata": {},
   "outputs": [
    {
     "name": "stdout",
     "output_type": "stream",
     "text": [
      "False\n"
     ]
    }
   ],
   "source": [
    "# Python isalpha() method example  \n",
    "# Variable declaration  \n",
    "str = \"Welcome to the Javatpoint\"  \n",
    "# Calling function  \n",
    "str2 = str.isalpha()  \n",
    "# Displaying result  \n",
    "print(str2)  "
   ]
  },
  {
   "cell_type": "code",
   "execution_count": 62,
   "metadata": {},
   "outputs": [
    {
     "name": "stdout",
     "output_type": "stream",
     "text": [
      "Stringn contains other chars too.\n"
     ]
    }
   ],
   "source": [
    "# Python isalpha() method example  \n",
    "# Variable declaration  \n",
    "str = \"lakshmi prasad\"  \n",
    "if str.isalpha() == True:  \n",
    "    print(\"String contains alphabets\")  \n",
    "else: print(\"Stringn contains other chars too.\")  "
   ]
  },
  {
   "cell_type": "code",
   "execution_count": 63,
   "metadata": {},
   "outputs": [],
   "source": [
    "lp=str.isdecimal()"
   ]
  },
  {
   "cell_type": "code",
   "execution_count": 64,
   "metadata": {},
   "outputs": [
    {
     "data": {
      "text/plain": [
       "False"
      ]
     },
     "execution_count": 64,
     "metadata": {},
     "output_type": "execute_result"
    }
   ],
   "source": [
    "lp"
   ]
  },
  {
   "cell_type": "raw",
   "metadata": {},
   "source": [
    "isdecimal()\tIt returns true if all the characters of the string are decimals.\n",
    "\n",
    "isdigit()\tIt returns true if all the characters are digits and there is at least one character, otherwise False.\n",
    "\n",
    "isidentifier()\tIt returns true if the string is the valid identifier.\n",
    "\n",
    "islower()\tIt returns true if the characters of a string are in lower case, otherwise false.\n",
    "\n",
    "isnumeric()\tIt returns true if the string contains only numeric characters.\n",
    "\n",
    "isprintable()\tIt returns true if all the characters of s are printable or s is empty, false otherwise.\n",
    "\n",
    "isupper()\tIt returns false if characters of a string are in Upper case, otherwise False.\n",
    "\n",
    "isspace()\tIt returns true if the characters of a string are white-space, otherwise false.\n",
    "\n",
    "istitle()\tIt returns true if the string is titled properly and false otherwise. A title string is \n",
    "the one in which the first character is upper-case whereas the other characters are lower-case.\n",
    "\n",
    "isupper()\tIt returns true if all the characters of the string(if exists) is true otherwise it returns false."
   ]
  },
  {
   "cell_type": "code",
   "execution_count": 67,
   "metadata": {},
   "outputs": [
    {
     "data": {
      "text/plain": [
       "'\\x06'"
      ]
     },
     "execution_count": 67,
     "metadata": {},
     "output_type": "execute_result"
    }
   ],
   "source": [
    "chr(6)"
   ]
  },
  {
   "cell_type": "code",
   "execution_count": null,
   "metadata": {},
   "outputs": [],
   "source": []
  },
  {
   "cell_type": "code",
   "execution_count": null,
   "metadata": {},
   "outputs": [],
   "source": []
  },
  {
   "cell_type": "code",
   "execution_count": 1,
   "metadata": {},
   "outputs": [
    {
     "ename": "TypeError",
     "evalue": "min expected at least 1 argument, got 0",
     "output_type": "error",
     "traceback": [
      "\u001b[1;31m---------------------------------------------------------------------------\u001b[0m",
      "\u001b[1;31mTypeError\u001b[0m                                 Traceback (most recent call last)",
      "\u001b[1;32m~\\AppData\\Local\\Temp\\ipykernel_8844\\154843549.py\u001b[0m in \u001b[0;36m<module>\u001b[1;34m\u001b[0m\n\u001b[1;32m----> 1\u001b[1;33m \u001b[0mmin\u001b[0m\u001b[1;33m(\u001b[0m\u001b[1;33m)\u001b[0m\u001b[1;33m,\u001b[0m\u001b[0mmax\u001b[0m\u001b[1;33m(\u001b[0m\u001b[1;33m)\u001b[0m\u001b[1;33m,\u001b[0m\u001b[0mlen\u001b[0m\u001b[1;33m(\u001b[0m\u001b[1;33m)\u001b[0m\u001b[1;33m,\u001b[0m\u001b[0msorted\u001b[0m\u001b[1;33m(\u001b[0m\u001b[1;33m)\u001b[0m\u001b[1;33m,\u001b[0m\u001b[0mchr\u001b[0m\u001b[1;33m(\u001b[0m\u001b[1;36m98\u001b[0m\u001b[1;33m)\u001b[0m\u001b[1;33m,\u001b[0m\u001b[0mascii\u001b[0m\u001b[1;33m(\u001b[0m\u001b[1;34m\"a\"\u001b[0m\u001b[1;33m)\u001b[0m\u001b[1;33m,\u001b[0m\u001b[0mord\u001b[0m\u001b[1;33m(\u001b[0m\u001b[1;33m)\u001b[0m\u001b[1;33m\u001b[0m\u001b[1;33m\u001b[0m\u001b[0m\n\u001b[0m",
      "\u001b[1;31mTypeError\u001b[0m: min expected at least 1 argument, got 0"
     ]
    }
   ],
   "source": [
    "min(),max(),len(),sorted(),chr(98),ascii(\"a\"),ord()"
   ]
  },
  {
   "cell_type": "code",
   "execution_count": null,
   "metadata": {},
   "outputs": [],
   "source": []
  },
  {
   "cell_type": "code",
   "execution_count": null,
   "metadata": {},
   "outputs": [],
   "source": []
  },
  {
   "cell_type": "code",
   "execution_count": null,
   "metadata": {},
   "outputs": [],
   "source": []
  }
 ],
 "metadata": {
  "kernelspec": {
   "display_name": "Python 3 (ipykernel)",
   "language": "python",
   "name": "python3"
  },
  "language_info": {
   "codemirror_mode": {
    "name": "ipython",
    "version": 3
   },
   "file_extension": ".py",
   "mimetype": "text/x-python",
   "name": "python",
   "nbconvert_exporter": "python",
   "pygments_lexer": "ipython3",
   "version": "3.9.13"
  }
 },
 "nbformat": 4,
 "nbformat_minor": 4
}
