{
 "cells": [
  {
   "cell_type": "markdown",
   "id": "1ab4ee04",
   "metadata": {},
   "source": [
    "# Set \n"
   ]
  },
  {
   "cell_type": "raw",
   "id": "5f498b0b",
   "metadata": {},
   "source": [
    "A Python set is the collection of the unordered items. Each element in the set must be unique, immutable, and the sets remove the duplicate elements. Sets are mutable which means we can modify it after its creation."
   ]
  },
  {
   "cell_type": "markdown",
   "id": "b6f1ae20",
   "metadata": {},
   "source": [
    "# Creating a set"
   ]
  },
  {
   "cell_type": "markdown",
   "id": "50fdab39",
   "metadata": {},
   "source": [
    "## Example 1: Using curly braces "
   ]
  },
  {
   "cell_type": "code",
   "execution_count": 15,
   "id": "77dea72a",
   "metadata": {},
   "outputs": [
    {
     "name": "stdout",
     "output_type": "stream",
     "text": [
      "<class 'set'>\n",
      "{'thi', 'tus', 'mon'}\n",
      "thi\n",
      "\n",
      "tus\n",
      "\n",
      "mon\n",
      "\n"
     ]
    }
   ],
   "source": [
    "Date={\"mon\",\"tus\",\"thi\"}\n",
    "print(type(Date))\n",
    "print(Date)\n",
    "for i in Date:\n",
    "    print(i+\"\\n\")"
   ]
  },
  {
   "cell_type": "markdown",
   "id": "883e46eb",
   "metadata": {},
   "source": [
    "## Example 2: Using set() method"
   ]
  },
  {
   "cell_type": "code",
   "execution_count": 16,
   "id": "8502c009",
   "metadata": {},
   "outputs": [
    {
     "name": "stdout",
     "output_type": "stream",
     "text": [
      "{'Saturday', 'Tuesday', 'Thursday', 'Monday', 'Wednesday', 'Friday', 'Sunday'}  \n",
      "<class 'set'>\n"
     ]
    }
   ],
   "source": [
    "date2=set([\"Monday\", \"Tuesday\", \"Wednesday\", \"Thursday\", \"Friday\", \"Saturday\", \"Sunday\"])\n",
    "print(date2,\" \")\n",
    "print(type(date2))"
   ]
  },
  {
   "cell_type": "code",
   "execution_count": 10,
   "id": "46c5a68e",
   "metadata": {},
   "outputs": [
    {
     "name": "stdout",
     "output_type": "stream",
     "text": [
      "Saturday  \n",
      "Tuesday  \n",
      "Thursday  \n",
      "Monday  \n",
      "Wednesday  \n",
      "Friday  \n",
      "Sunday  \n"
     ]
    }
   ],
   "source": [
    "for i in date2:\n",
    "    print(i,\" \")"
   ]
  },
  {
   "cell_type": "code",
   "execution_count": 12,
   "id": "3ed7597b",
   "metadata": {},
   "outputs": [
    {
     "name": "stdout",
     "output_type": "stream",
     "text": [
      "<class 'set'>\n"
     ]
    },
    {
     "ename": "TypeError",
     "evalue": "unhashable type: 'list'",
     "output_type": "error",
     "traceback": [
      "\u001b[1;31m---------------------------------------------------------------------------\u001b[0m",
      "\u001b[1;31mTypeError\u001b[0m                                 Traceback (most recent call last)",
      "\u001b[1;32m~\\AppData\\Local\\Temp\\ipykernel_26080\\3965475237.py\u001b[0m in \u001b[0;36m<module>\u001b[1;34m\u001b[0m\n\u001b[0;32m      3\u001b[0m \u001b[0mprint\u001b[0m\u001b[1;33m(\u001b[0m\u001b[0mtype\u001b[0m\u001b[1;33m(\u001b[0m\u001b[0mset1\u001b[0m\u001b[1;33m)\u001b[0m\u001b[1;33m)\u001b[0m\u001b[1;33m\u001b[0m\u001b[1;33m\u001b[0m\u001b[0m\n\u001b[0;32m      4\u001b[0m \u001b[1;31m#Creating a set which have mutable element\u001b[0m\u001b[1;33m\u001b[0m\u001b[1;33m\u001b[0m\u001b[0m\n\u001b[1;32m----> 5\u001b[1;33m \u001b[0mset2\u001b[0m \u001b[1;33m=\u001b[0m \u001b[1;33m{\u001b[0m\u001b[1;36m1\u001b[0m\u001b[1;33m,\u001b[0m\u001b[1;36m2\u001b[0m\u001b[1;33m,\u001b[0m\u001b[1;36m3\u001b[0m\u001b[1;33m,\u001b[0m\u001b[1;33m[\u001b[0m\u001b[1;34m\"Javatpoint\"\u001b[0m\u001b[1;33m,\u001b[0m\u001b[1;36m4\u001b[0m\u001b[1;33m]\u001b[0m\u001b[1;33m}\u001b[0m\u001b[1;33m\u001b[0m\u001b[1;33m\u001b[0m\u001b[0m\n\u001b[0m\u001b[0;32m      6\u001b[0m \u001b[0mprint\u001b[0m\u001b[1;33m(\u001b[0m\u001b[0mtype\u001b[0m\u001b[1;33m(\u001b[0m\u001b[0mset2\u001b[0m\u001b[1;33m)\u001b[0m\u001b[1;33m)\u001b[0m\u001b[1;33m\u001b[0m\u001b[1;33m\u001b[0m\u001b[0m\n",
      "\u001b[1;31mTypeError\u001b[0m: unhashable type: 'list'"
     ]
    }
   ],
   "source": [
    "# Creating a set which have immutable elements  \n",
    "set1 = {1,2,3, \"JavaTpoint\", 20.5, 14}  \n",
    "print(type(set1))  \n",
    "#Creating a set which have mutable element  \n",
    "set2 = {1,2,3,[\"Javatpoint\",4]}  \n",
    "print(type(set2))  "
   ]
  },
  {
   "cell_type": "code",
   "execution_count": 13,
   "id": "9c63f8a9",
   "metadata": {},
   "outputs": [
    {
     "name": "stdout",
     "output_type": "stream",
     "text": [
      "<class 'dict'>\n",
      "<class 'set'>\n"
     ]
    }
   ],
   "source": [
    "# Empty curly braces will create dictionary  \n",
    "set3 = {}  \n",
    "print(type(set3))  \n",
    "  \n",
    "# Empty set using set() function  \n",
    "set4 = set()  \n",
    "print(type(set4))  "
   ]
  },
  {
   "cell_type": "markdown",
   "id": "51e540ef",
   "metadata": {},
   "source": [
    "# Adding items to the set\n",
    "## Example: 1 - Using add() method"
   ]
  },
  {
   "cell_type": "code",
   "execution_count": 18,
   "id": "cf4d9836",
   "metadata": {},
   "outputs": [
    {
     "name": "stdout",
     "output_type": "stream",
     "text": [
      "\n",
      "printing the original set ... \n",
      "{'April', 'June', 'May', 'January', 'February', 'March'}\n",
      "\n",
      "Adding other months to the set...\n",
      "\n",
      "Printing the modified set...\n",
      "{'April', 'July', 'June', 'May', 'January', 'February', 'March', 'August'}\n",
      "\n",
      "looping through the set elements ... \n",
      "April\n",
      "July\n",
      "June\n",
      "May\n",
      "January\n",
      "February\n",
      "March\n",
      "August\n"
     ]
    }
   ],
   "source": [
    "Months = set([\"January\",\"February\", \"March\", \"April\", \"May\", \"June\"])    \n",
    "print(\"\\nprinting the original set ... \")    \n",
    "print(Months)    \n",
    "print(\"\\nAdding other months to the set...\");    \n",
    "Months.add(\"July\");    \n",
    "Months.add (\"August\");    \n",
    "print(\"\\nPrinting the modified set...\");    \n",
    "print(Months)    \n",
    "print(\"\\nlooping through the set elements ... \")    \n",
    "for i in Months:    \n",
    "    print(i)    "
   ]
  },
  {
   "cell_type": "markdown",
   "id": "42c73a81",
   "metadata": {},
   "source": [
    "# Example - 2 Using update() function"
   ]
  },
  {
   "cell_type": "code",
   "execution_count": 19,
   "id": "c0aa35bb",
   "metadata": {},
   "outputs": [
    {
     "name": "stdout",
     "output_type": "stream",
     "text": [
      "\n",
      "printing the original set ... \n",
      "{'April', 'June', 'May', 'January', 'February', 'March'}\n",
      "\n",
      "updating the original set ... \n",
      "\n",
      "printing the modified set ... \n",
      "{'April', 'July', 'September', 'June', 'May', 'January', 'February', 'October', 'March', 'August'}\n"
     ]
    }
   ],
   "source": [
    "Months = set([\"January\",\"February\", \"March\", \"April\", \"May\", \"June\"])    \n",
    "print(\"\\nprinting the original set ... \")    \n",
    "print(Months)    \n",
    "print(\"\\nupdating the original set ... \")    \n",
    "Months.update([\"July\",\"August\",\"September\",\"October\"]);    \n",
    "print(\"\\nprinting the modified set ... \")     \n",
    "print(Months);  "
   ]
  },
  {
   "cell_type": "markdown",
   "id": "1aed54aa",
   "metadata": {},
   "source": [
    "# Removing items from the set\n",
    "## Example-1 Using discard() method"
   ]
  },
  {
   "cell_type": "code",
   "execution_count": 20,
   "id": "486e40a0",
   "metadata": {},
   "outputs": [
    {
     "name": "stdout",
     "output_type": "stream",
     "text": [
      "\n",
      "printing the original set ... \n",
      "{'April', 'June', 'May', 'January', 'February', 'March'}\n",
      "\n",
      "Removing some months from the set...\n",
      "\n",
      "Printing the modified set...\n",
      "{'April', 'June', 'February', 'March'}\n",
      "\n",
      "looping through the set elements ... \n",
      "April\n",
      "June\n",
      "February\n",
      "March\n"
     ]
    }
   ],
   "source": [
    "months = set([\"January\",\"February\", \"March\", \"April\", \"May\", \"June\"])    \n",
    "print(\"\\nprinting the original set ... \")    \n",
    "print(months)    \n",
    "print(\"\\nRemoving some months from the set...\");    \n",
    "months.discard(\"January\");    \n",
    "months.discard(\"May\");    \n",
    "print(\"\\nPrinting the modified set...\");    \n",
    "print(months)    \n",
    "print(\"\\nlooping through the set elements ... \")    \n",
    "for i in months:    \n",
    "    print(i)    "
   ]
  },
  {
   "cell_type": "markdown",
   "id": "f4cfb723",
   "metadata": {},
   "source": [
    "# Example-2 Using remove() function"
   ]
  },
  {
   "cell_type": "code",
   "execution_count": 21,
   "id": "f53d6222",
   "metadata": {},
   "outputs": [
    {
     "name": "stdout",
     "output_type": "stream",
     "text": [
      "\n",
      "printing the original set ... \n",
      "{'April', 'June', 'May', 'January', 'February', 'March'}\n",
      "\n",
      "Removing some months from the set...\n",
      "\n",
      "Printing the modified set...\n",
      "{'April', 'June', 'February', 'March'}\n"
     ]
    }
   ],
   "source": [
    "months = set([\"January\",\"February\", \"March\", \"April\", \"May\", \"June\"])    \n",
    "print(\"\\nprinting the original set ... \")    \n",
    "print(months)    \n",
    "print(\"\\nRemoving some months from the set...\");    \n",
    "months.remove(\"January\");    \n",
    "months.remove(\"May\");    \n",
    "print(\"\\nPrinting the modified set...\");    \n",
    "print(months)   "
   ]
  },
  {
   "cell_type": "code",
   "execution_count": 22,
   "id": "6fc75e2c",
   "metadata": {},
   "outputs": [
    {
     "name": "stdout",
     "output_type": "stream",
     "text": [
      "\n",
      "printing the original set ... \n",
      "{'April', 'June', 'May', 'January', 'February', 'March'}\n",
      "\n",
      "Removing some months from the set...\n",
      "\n",
      "Printing the modified set...\n",
      "{'May', 'January', 'February', 'March'}\n"
     ]
    }
   ],
   "source": [
    "Months = set([\"January\",\"February\", \"March\", \"April\", \"May\", \"June\"])    \n",
    "print(\"\\nprinting the original set ... \")    \n",
    "print(Months)    \n",
    "print(\"\\nRemoving some months from the set...\");    \n",
    "Months.pop();    \n",
    "Months.pop();    \n",
    "print(\"\\nPrinting the modified set...\");    \n",
    "print(Months)  "
   ]
  },
  {
   "cell_type": "code",
   "execution_count": 23,
   "id": "4207ec02",
   "metadata": {},
   "outputs": [
    {
     "name": "stdout",
     "output_type": "stream",
     "text": [
      "\n",
      "printing the original set ... \n",
      "{'April', 'June', 'May', 'January', 'February', 'March'}\n",
      "\n",
      "Removing all the items from the set...\n",
      "\n",
      "Printing the modified set...\n",
      "set()\n"
     ]
    }
   ],
   "source": [
    "Months = set([\"January\",\"February\", \"March\", \"April\", \"May\", \"June\"])    \n",
    "print(\"\\nprinting the original set ... \")    \n",
    "print(Months)    \n",
    "print(\"\\nRemoving all the items from the set...\");    \n",
    "Months.clear()    \n",
    "print(\"\\nPrinting the modified set...\")    \n",
    "print(Months)  "
   ]
  },
  {
   "cell_type": "markdown",
   "id": "29346afe",
   "metadata": {},
   "source": [
    "# Difference between discard() and remove()"
   ]
  },
  {
   "cell_type": "code",
   "execution_count": 24,
   "id": "2e7b8655",
   "metadata": {},
   "outputs": [
    {
     "name": "stdout",
     "output_type": "stream",
     "text": [
      "\n",
      "printing the original set ... \n",
      "{'April', 'June', 'May', 'January', 'February', 'March'}\n",
      "\n",
      "Removing items through discard() method...\n",
      "\n",
      "printing the modified set...\n",
      "{'April', 'June', 'May', 'January', 'February', 'March'}\n",
      "\n",
      "Removing items through remove() method...\n"
     ]
    },
    {
     "ename": "KeyError",
     "evalue": "'Jan'",
     "output_type": "error",
     "traceback": [
      "\u001b[1;31m---------------------------------------------------------------------------\u001b[0m",
      "\u001b[1;31mKeyError\u001b[0m                                  Traceback (most recent call last)",
      "\u001b[1;32m~\\AppData\\Local\\Temp\\ipykernel_26080\\1570717669.py\u001b[0m in \u001b[0;36m<module>\u001b[1;34m\u001b[0m\n\u001b[0;32m      7\u001b[0m \u001b[0mprint\u001b[0m\u001b[1;33m(\u001b[0m\u001b[0mMonths\u001b[0m\u001b[1;33m)\u001b[0m\u001b[1;33m\u001b[0m\u001b[1;33m\u001b[0m\u001b[0m\n\u001b[0;32m      8\u001b[0m \u001b[0mprint\u001b[0m\u001b[1;33m(\u001b[0m\u001b[1;34m\"\\nRemoving items through remove() method...\"\u001b[0m\u001b[1;33m)\u001b[0m\u001b[1;33m;\u001b[0m\u001b[1;33m\u001b[0m\u001b[1;33m\u001b[0m\u001b[0m\n\u001b[1;32m----> 9\u001b[1;33m \u001b[0mMonths\u001b[0m\u001b[1;33m.\u001b[0m\u001b[0mremove\u001b[0m\u001b[1;33m(\u001b[0m\u001b[1;34m\"Jan\"\u001b[0m\u001b[1;33m)\u001b[0m \u001b[1;31m#will give an error as the key jan is not available in the set.\u001b[0m\u001b[1;33m\u001b[0m\u001b[1;33m\u001b[0m\u001b[0m\n\u001b[0m\u001b[0;32m     10\u001b[0m \u001b[0mprint\u001b[0m\u001b[1;33m(\u001b[0m\u001b[1;34m\"\\nPrinting the modified set...\"\u001b[0m\u001b[1;33m)\u001b[0m\u001b[1;33m\u001b[0m\u001b[1;33m\u001b[0m\u001b[0m\n\u001b[0;32m     11\u001b[0m \u001b[0mprint\u001b[0m\u001b[1;33m(\u001b[0m\u001b[0mMonths\u001b[0m\u001b[1;33m)\u001b[0m\u001b[1;33m\u001b[0m\u001b[1;33m\u001b[0m\u001b[0m\n",
      "\u001b[1;31mKeyError\u001b[0m: 'Jan'"
     ]
    }
   ],
   "source": [
    "Months = set([\"January\",\"February\", \"March\", \"April\", \"May\", \"June\"])    \n",
    "print(\"\\nprinting the original set ... \")    \n",
    "print(Months)    \n",
    "print(\"\\nRemoving items through discard() method...\");    \n",
    "Months.discard(\"Feb\"); #will not give an error although the key feb is not available in the set    \n",
    "print(\"\\nprinting the modified set...\")    \n",
    "print(Months)    \n",
    "print(\"\\nRemoving items through remove() method...\");    \n",
    "Months.remove(\"Jan\") #will give an error as the key jan is not available in the set.     \n",
    "print(\"\\nPrinting the modified set...\")    \n",
    "print(Months)    "
   ]
  },
  {
   "cell_type": "markdown",
   "id": "9ccb93c5",
   "metadata": {},
   "source": [
    "# Python Set Operations"
   ]
  },
  {
   "cell_type": "markdown",
   "id": "f96e07c2",
   "metadata": {},
   "source": [
    "# Union of two Sets"
   ]
  },
  {
   "cell_type": "code",
   "execution_count": 25,
   "id": "ad660d2d",
   "metadata": {},
   "outputs": [
    {
     "name": "stdout",
     "output_type": "stream",
     "text": [
      "{'Saturday', 'Sunday', 'Monday', 'Wednesday', 'Tuesday', 'Friday', 'Thursday'}\n"
     ]
    }
   ],
   "source": [
    "Days1 = {\"Monday\",\"Tuesday\",\"Wednesday\",\"Thursday\", \"Sunday\"}    \n",
    "Days2 = {\"Friday\",\"Saturday\",\"Sunday\"}    \n",
    "print(Days1|Days2) #printing the union of the sets     "
   ]
  },
  {
   "cell_type": "code",
   "execution_count": 26,
   "id": "4c8d9755",
   "metadata": {},
   "outputs": [
    {
     "name": "stdout",
     "output_type": "stream",
     "text": [
      "{'Saturday', 'Sunday', 'Monday', 'Wednesday', 'Tuesday', 'Friday', 'Thursday'}\n"
     ]
    }
   ],
   "source": [
    "Days1 = {\"Monday\",\"Tuesday\",\"Wednesday\",\"Thursday\"}    \n",
    "Days2 = {\"Friday\",\"Saturday\",\"Sunday\"}    \n",
    "print(Days1.union(Days2)) #printing the union of the sets     "
   ]
  },
  {
   "cell_type": "markdown",
   "id": "730ed049",
   "metadata": {},
   "source": [
    "# Intersection of two sets"
   ]
  },
  {
   "cell_type": "code",
   "execution_count": 27,
   "id": "d6f8d038",
   "metadata": {},
   "outputs": [
    {
     "name": "stdout",
     "output_type": "stream",
     "text": [
      "{'Monday', 'Tuesday'}\n"
     ]
    }
   ],
   "source": [
    "Days1 = {\"Monday\",\"Tuesday\", \"Wednesday\", \"Thursday\"}    \n",
    "Days2 = {\"Monday\",\"Tuesday\",\"Sunday\", \"Friday\"}    \n",
    "print(Days1&Days2) #prints the intersection of the two sets    "
   ]
  },
  {
   "cell_type": "code",
   "execution_count": 28,
   "id": "e0c4465b",
   "metadata": {},
   "outputs": [
    {
     "name": "stdout",
     "output_type": "stream",
     "text": [
      "{'Martin', 'David'}\n"
     ]
    }
   ],
   "source": [
    "set1 = {\"Devansh\",\"John\", \"David\", \"Martin\"}    \n",
    "set2 = {\"Steve\", \"Milan\", \"David\", \"Martin\"}    \n",
    "print(set1.intersection(set2)) #prints the intersection of the two sets    "
   ]
  },
  {
   "cell_type": "markdown",
   "id": "bddc29aa",
   "metadata": {},
   "source": [
    "# The intersection_update() method"
   ]
  },
  {
   "cell_type": "raw",
   "id": "403b696c",
   "metadata": {},
   "source": [
    "The intersection_update() method removes the items from the original set that are not present in both the sets (all the sets if more than one are specified)."
   ]
  },
  {
   "cell_type": "code",
   "execution_count": 29,
   "id": "6578092a",
   "metadata": {},
   "outputs": [
    {
     "name": "stdout",
     "output_type": "stream",
     "text": [
      "{'castle'}\n"
     ]
    }
   ],
   "source": [
    "a = {\"Devansh\", \"bob\", \"castle\"}    \n",
    "b = {\"castle\", \"dude\", \"emyway\"}    \n",
    "c = {\"fuson\", \"gaurav\", \"castle\"}    \n",
    "    \n",
    "a.intersection_update(b, c)    \n",
    "    \n",
    "print(a)    "
   ]
  },
  {
   "cell_type": "markdown",
   "id": "538780e3",
   "metadata": {},
   "source": [
    "# Difference between the two sets\n",
    "## Example 1 : Using subtraction ( - ) operator"
   ]
  },
  {
   "cell_type": "code",
   "execution_count": 30,
   "id": "90a38e9e",
   "metadata": {},
   "outputs": [
    {
     "name": "stdout",
     "output_type": "stream",
     "text": [
      "{'Wednesday', 'Thursday'}\n"
     ]
    }
   ],
   "source": [
    "Days1 = {\"Monday\",  \"Tuesday\", \"Wednesday\", \"Thursday\"}    \n",
    "Days2 = {\"Monday\", \"Tuesday\", \"Sunday\"}    \n",
    "print(Days1-Days2) #{\"Wednesday\", \"Thursday\" will be printed}   "
   ]
  },
  {
   "cell_type": "markdown",
   "id": "fc26e335",
   "metadata": {},
   "source": [
    "# Example 2 : Using difference() method"
   ]
  },
  {
   "cell_type": "code",
   "execution_count": 31,
   "id": "64ddc8c0",
   "metadata": {},
   "outputs": [
    {
     "name": "stdout",
     "output_type": "stream",
     "text": [
      "{'Wednesday', 'Thursday'}\n"
     ]
    }
   ],
   "source": [
    "Days1 = {\"Monday\",  \"Tuesday\", \"Wednesday\", \"Thursday\"}    \n",
    "Days2 = {\"Monday\", \"Tuesday\", \"Sunday\"}    \n",
    "print(Days1.difference(Days2)) # prints the difference of the two sets Days1 and Days2    "
   ]
  },
  {
   "cell_type": "markdown",
   "id": "c5dbb905",
   "metadata": {},
   "source": [
    "# Symmetric Difference of two sets\n",
    "### Example - 1: Using ^ operator"
   ]
  },
  {
   "cell_type": "code",
   "execution_count": 32,
   "id": "d1007e16",
   "metadata": {},
   "outputs": [
    {
     "name": "stdout",
     "output_type": "stream",
     "text": [
      "{3, 4, 5, 6, 8, 9, 10}\n"
     ]
    }
   ],
   "source": [
    "a = {1,2,3,4,5,6}  \n",
    "b = {1,2,9,8,10}  \n",
    "c = a^b  \n",
    "print(c)  "
   ]
  },
  {
   "cell_type": "markdown",
   "id": "873ca33d",
   "metadata": {},
   "source": [
    "### Example - 2: Using symmetric_difference() method"
   ]
  },
  {
   "cell_type": "code",
   "execution_count": 33,
   "id": "adedf7cb",
   "metadata": {},
   "outputs": [
    {
     "name": "stdout",
     "output_type": "stream",
     "text": [
      "{3, 4, 5, 6, 8, 9, 10}\n"
     ]
    }
   ],
   "source": [
    "a = {1,2,3,4,5,6}  \n",
    "b = {1,2,9,8,10}  \n",
    "c = a.symmetric_difference(b)  \n",
    "print(c)  "
   ]
  },
  {
   "cell_type": "markdown",
   "id": "e3ab5d8f",
   "metadata": {},
   "source": [
    "# Set comparisons"
   ]
  },
  {
   "cell_type": "code",
   "execution_count": 36,
   "id": "5d27521f",
   "metadata": {},
   "outputs": [
    {
     "name": "stdout",
     "output_type": "stream",
     "text": [
      "True\n",
      "False\n",
      "False\n"
     ]
    }
   ],
   "source": [
    "Days1 = {\"Monday\",  \"Tuesday\", \"Wednesday\", \"Thursday\"}    \n",
    "Days2 = {\"Monday\", \"Tuesday\"}    \n",
    "Days3 = {\"Monday\", \"Tuesday\", \"Friday\"}    \n",
    "    \n",
    "#Days1 is the superset of Days2 hence it will print true.     \n",
    "print (Days1>Days2)     \n",
    "    \n",
    "#prints false since Days1 is not the subset of Days2     \n",
    "print (Days1<Days2)    \n",
    "    \n",
    "#prints false since Days2 and Days3 are not equivalent     \n",
    "print (Days2 == Days3)    "
   ]
  },
  {
   "cell_type": "markdown",
   "id": "4f838518",
   "metadata": {},
   "source": [
    "# FrozenSets"
   ]
  },
  {
   "cell_type": "code",
   "execution_count": 37,
   "id": "af4f2667",
   "metadata": {},
   "outputs": [
    {
     "name": "stdout",
     "output_type": "stream",
     "text": [
      "<class 'frozenset'>\n",
      "\n",
      "printing the content of frozen set...\n",
      "1\n",
      "2\n",
      "3\n",
      "4\n",
      "5\n"
     ]
    },
    {
     "ename": "AttributeError",
     "evalue": "'frozenset' object has no attribute 'add'",
     "output_type": "error",
     "traceback": [
      "\u001b[1;31m---------------------------------------------------------------------------\u001b[0m",
      "\u001b[1;31mAttributeError\u001b[0m                            Traceback (most recent call last)",
      "\u001b[1;32m~\\AppData\\Local\\Temp\\ipykernel_26080\\1604759324.py\u001b[0m in \u001b[0;36m<module>\u001b[1;34m\u001b[0m\n\u001b[0;32m      4\u001b[0m \u001b[1;32mfor\u001b[0m \u001b[0mi\u001b[0m \u001b[1;32min\u001b[0m \u001b[0mFrozenset\u001b[0m\u001b[1;33m:\u001b[0m\u001b[1;33m\u001b[0m\u001b[1;33m\u001b[0m\u001b[0m\n\u001b[0;32m      5\u001b[0m     \u001b[0mprint\u001b[0m\u001b[1;33m(\u001b[0m\u001b[0mi\u001b[0m\u001b[1;33m)\u001b[0m\u001b[1;33m;\u001b[0m\u001b[1;33m\u001b[0m\u001b[1;33m\u001b[0m\u001b[0m\n\u001b[1;32m----> 6\u001b[1;33m \u001b[0mFrozenset\u001b[0m\u001b[1;33m.\u001b[0m\u001b[0madd\u001b[0m\u001b[1;33m(\u001b[0m\u001b[1;36m6\u001b[0m\u001b[1;33m)\u001b[0m \u001b[1;31m#gives an error since we cannot change the content of Frozenset after creation\u001b[0m\u001b[1;33m\u001b[0m\u001b[1;33m\u001b[0m\u001b[0m\n\u001b[0m",
      "\u001b[1;31mAttributeError\u001b[0m: 'frozenset' object has no attribute 'add'"
     ]
    }
   ],
   "source": [
    "Frozenset = frozenset([1,2,3,4,5])     \n",
    "print(type(Frozenset))    \n",
    "print(\"\\nprinting the content of frozen set...\")    \n",
    "for i in Frozenset:    \n",
    "    print(i);    \n",
    "Frozenset.add(6) #gives an error since we cannot change the content of Frozenset after creation  "
   ]
  },
  {
   "cell_type": "markdown",
   "id": "1ae5ba30",
   "metadata": {},
   "source": [
    "# Example - 1: Write a program to remove the given number from the set."
   ]
  },
  {
   "cell_type": "code",
   "execution_count": 38,
   "id": "85f24656",
   "metadata": {},
   "outputs": [
    {
     "name": "stdout",
     "output_type": "stream",
     "text": [
      "Enter the number you want to remove24\n",
      "After Removing: {1, 2, 3, 4, 5, 6, 12}\n"
     ]
    }
   ],
   "source": [
    "my_set = {1,2,3,4,5,6,12,24}  \n",
    "n = int(input(\"Enter the number you want to remove\"))  \n",
    "my_set.discard(n)  \n",
    "print(\"After Removing:\",my_set)  "
   ]
  },
  {
   "cell_type": "markdown",
   "id": "a92fac62",
   "metadata": {},
   "source": [
    "# Example - 2: Write a program to add multiple elements to the set."
   ]
  },
  {
   "cell_type": "code",
   "execution_count": 39,
   "id": "746581d7",
   "metadata": {},
   "outputs": [
    {
     "name": "stdout",
     "output_type": "stream",
     "text": [
      "{1, 2, 4, 'Mango', 'John', 'Grapes', 'CS', 'Apple'}\n"
     ]
    }
   ],
   "source": [
    "set1 = set([1,2,4,\"John\",\"CS\"])  \n",
    "set1.update([\"Apple\",\"Mango\",\"Grapes\"])  \n",
    "print(set1)  "
   ]
  },
  {
   "cell_type": "markdown",
   "id": "5e94cef6",
   "metadata": {},
   "source": [
    "# Example - 3: Write a program to find the union between two set."
   ]
  },
  {
   "cell_type": "code",
   "execution_count": 40,
   "id": "36652c4b",
   "metadata": {},
   "outputs": [
    {
     "name": "stdout",
     "output_type": "stream",
     "text": [
      "{96, 65, 1, 2, 'Joseph', 59, 'Peter'}\n"
     ]
    }
   ],
   "source": [
    "set1 = set([\"Peter\",\"Joseph\", 65,59,96])  \n",
    "set2  = set([\"Peter\",1,2,\"Joseph\"])  \n",
    "set3 = set1.union(set2)  \n",
    "print(set3)  \n"
   ]
  },
  {
   "cell_type": "markdown",
   "id": "e268e7af",
   "metadata": {},
   "source": [
    "# Example- 4: Write a program to find the intersection between two sets."
   ]
  },
  {
   "cell_type": "code",
   "execution_count": 41,
   "id": "30be8b68",
   "metadata": {},
   "outputs": [
    {
     "name": "stdout",
     "output_type": "stream",
     "text": [
      "{56, 23}\n"
     ]
    }
   ],
   "source": [
    "set1 = {23,44,56,67,90,45,\"Javatpoint\"}  \n",
    "set2 = {13,23,56,76,\"Sachin\"}  \n",
    "set3 = set1.intersection(set2)  \n",
    "print(set3)  "
   ]
  },
  {
   "cell_type": "markdown",
   "id": "efb3ce69",
   "metadata": {},
   "source": [
    "# Example - 5: Write the program to add element to the frozenset."
   ]
  },
  {
   "cell_type": "code",
   "execution_count": 42,
   "id": "8a82c76c",
   "metadata": {},
   "outputs": [
    {
     "name": "stdout",
     "output_type": "stream",
     "text": [
      "{56, 23}\n"
     ]
    }
   ],
   "source": [
    "set1 = {23,44,56,67,90,45,\"Javatpoint\"}  \n",
    "set2 = {13,23,56,76,\"Sachin\"}  \n",
    "set3 = set1.intersection(set2)  \n",
    "print(set3)  "
   ]
  },
  {
   "cell_type": "markdown",
   "id": "e8996cfd",
   "metadata": {},
   "source": [
    "# Example - 6: Write the program to find the issuperset, issubset and superset."
   ]
  },
  {
   "cell_type": "code",
   "execution_count": 44,
   "id": "0ab32ab0",
   "metadata": {},
   "outputs": [
    {
     "name": "stdout",
     "output_type": "stream",
     "text": [
      "False\n",
      "False\n",
      "True\n",
      "True\n"
     ]
    }
   ],
   "source": [
    "set1 = set([\"Peter\",\"James\",\"Camroon\",\"Ricky\",\"Donald\"])  \n",
    "set2 = set([\"Camroon\",\"Washington\",\"Peter\"])  \n",
    "set3 = set([\"Peter\"])  \n",
    "  \n",
    "issubset = set1 >= set2  \n",
    "print(issubset)  \n",
    "issuperset = set1 <= set2  \n",
    "print(issuperset)  \n",
    "issubset = set3 <= set2  \n",
    "print(issubset)  \n",
    "issuperset = set2 >= set3  \n",
    "print(issuperset)  "
   ]
  },
  {
   "cell_type": "code",
   "execution_count": 45,
   "id": "e275ec18",
   "metadata": {},
   "outputs": [
    {
     "name": "stdout",
     "output_type": "stream",
     "text": [
      "1 2 3 4 5 6\n"
     ]
    },
    {
     "data": {
      "text/plain": [
       "{'1', '2', '3', '4', '5', '6'}"
      ]
     },
     "execution_count": 45,
     "metadata": {},
     "output_type": "execute_result"
    }
   ],
   "source": [
    "set(input().split())"
   ]
  },
  {
   "cell_type": "code",
   "execution_count": 46,
   "id": "bf86fa13",
   "metadata": {},
   "outputs": [
    {
     "name": "stdout",
     "output_type": "stream",
     "text": [
      "1 2 3,3\n"
     ]
    },
    {
     "data": {
      "text/plain": [
       "{'1', '2', '3,3'}"
      ]
     },
     "execution_count": 46,
     "metadata": {},
     "output_type": "execute_result"
    }
   ],
   "source": [
    "set(input().split(\" \"))"
   ]
  },
  {
   "cell_type": "code",
   "execution_count": 48,
   "id": "adfed0e2",
   "metadata": {},
   "outputs": [
    {
     "name": "stdout",
     "output_type": "stream",
     "text": [
      "1 2 3 4\n"
     ]
    },
    {
     "data": {
      "text/plain": [
       "{1, 2, 3, 4}"
      ]
     },
     "execution_count": 48,
     "metadata": {},
     "output_type": "execute_result"
    }
   ],
   "source": [
    "set(map(int,input().split()))"
   ]
  },
  {
   "cell_type": "code",
   "execution_count": null,
   "id": "edb083b6",
   "metadata": {},
   "outputs": [],
   "source": []
  }
 ],
 "metadata": {
  "kernelspec": {
   "display_name": "Python 3 (ipykernel)",
   "language": "python",
   "name": "python3"
  },
  "language_info": {
   "codemirror_mode": {
    "name": "ipython",
    "version": 3
   },
   "file_extension": ".py",
   "mimetype": "text/x-python",
   "name": "python",
   "nbconvert_exporter": "python",
   "pygments_lexer": "ipython3",
   "version": "3.9.13"
  }
 },
 "nbformat": 4,
 "nbformat_minor": 5
}
