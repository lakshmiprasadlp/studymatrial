{
 "cells": [
  {
   "cell_type": "markdown",
   "metadata": {},
   "source": [
    "# Python Functions"
   ]
  },
  {
   "cell_type": "raw",
   "metadata": {},
   "source": [
    "A function is a block of code which only runs when it is called.\n",
    "\n",
    "You can pass data, known as parameters, into a function.\n",
    "\n",
    "A function can return data as a result.\n",
    "Creating a Function\n",
    "In Python a function is defined using the def keyword:\n"
   ]
  },
  {
   "cell_type": "code",
   "execution_count": 1,
   "metadata": {},
   "outputs": [],
   "source": [
    "def my_function():\n",
    "    print(\"Hello from a function\")"
   ]
  },
  {
   "cell_type": "raw",
   "metadata": {},
   "source": [
    "Calling a Function"
   ]
  },
  {
   "cell_type": "code",
   "execution_count": 2,
   "metadata": {},
   "outputs": [
    {
     "name": "stdout",
     "output_type": "stream",
     "text": [
      "Hello from a function\n"
     ]
    }
   ],
   "source": [
    "my_function()"
   ]
  },
  {
   "cell_type": "raw",
   "metadata": {},
   "source": [
    "Function Arguments\n",
    "The following are the types of arguments that we can use to call a function:\n",
    "\n",
    "Default arguments\n",
    "Keyword arguments\n",
    "Required arguments\n",
    "Variable-length arguments"
   ]
  },
  {
   "cell_type": "markdown",
   "metadata": {},
   "source": [
    "# 1 Default arguments"
   ]
  },
  {
   "cell_type": "code",
   "execution_count": 8,
   "metadata": {},
   "outputs": [],
   "source": [
    "def add(a=10,b=20):\n",
    "    add=a+b\n",
    "    print(add)"
   ]
  },
  {
   "cell_type": "code",
   "execution_count": 9,
   "metadata": {},
   "outputs": [
    {
     "name": "stdout",
     "output_type": "stream",
     "text": [
      "30\n"
     ]
    }
   ],
   "source": [
    "add()"
   ]
  },
  {
   "cell_type": "code",
   "execution_count": 10,
   "metadata": {},
   "outputs": [
    {
     "name": "stdout",
     "output_type": "stream",
     "text": [
      "70\n"
     ]
    }
   ],
   "source": [
    "add(50)"
   ]
  },
  {
   "cell_type": "markdown",
   "metadata": {},
   "source": [
    "# 2) Keyword Arguments"
   ]
  },
  {
   "cell_type": "code",
   "execution_count": 11,
   "metadata": {},
   "outputs": [
    {
     "name": "stdout",
     "output_type": "stream",
     "text": [
      "Without using keyword\n",
      "number 1 is:  50\n",
      "number 2 is:  30\n",
      "With using keyword\n",
      "number 1 is:  30\n",
      "number 2 is:  50\n"
     ]
    }
   ],
   "source": [
    "# Python code to demonstrate the use of keyword arguments    \n",
    "  # Defining a function    \n",
    "def function( n1, n2 ):    \n",
    "    print(\"number 1 is: \", n1)    \n",
    "    print(\"number 2 is: \", n2)    \n",
    "    \n",
    "# Calling function and passing arguments without using keyword    \n",
    "print( \"Without using keyword\" )    \n",
    "function( 50, 30)       \n",
    "        \n",
    "# Calling function and passing arguments using keyword    \n",
    "print( \"With using keyword\" )    \n",
    "function( n2 = 50, n1 = 30)    "
   ]
  },
  {
   "cell_type": "markdown",
   "metadata": {},
   "source": [
    "# 3) Required Arguments"
   ]
  },
  {
   "cell_type": "code",
   "execution_count": 12,
   "metadata": {},
   "outputs": [
    {
     "name": "stdout",
     "output_type": "stream",
     "text": [
      "number 1 is:  30\n",
      "number 2 is:  20\n",
      "Passing only one argument\n",
      "Function needs two positional arguments\n"
     ]
    }
   ],
   "source": [
    "# Python code to demonstrate the use of default arguments      \n",
    "# Defining a function    \n",
    "def function( n1, n2 ):    \n",
    "    print(\"number 1 is: \", n1)    \n",
    "    print(\"number 2 is: \", n2)    \n",
    "    \n",
    "# Calling function and passing two arguments out of \n",
    "function( 30, 20 )       \n",
    "    \n",
    "# Calling function and passing only one argument    \n",
    "print( \"Passing only one argument\" )    \n",
    "try:    \n",
    "    function( 30 )    \n",
    "except:    \n",
    "    print( \"Function needs two positional arguments\" )  "
   ]
  },
  {
   "cell_type": "markdown",
   "metadata": {},
   "source": [
    "# 4) Variable-Length Arguments"
   ]
  },
  {
   "cell_type": "raw",
   "metadata": {},
   "source": [
    "We can use special characters in Python functions to pass as many arguments as we want in a function. There are two types of characters that we can use for this purpose:\n",
    "\n",
    "*args -These are Non-Keyword Arguments\n",
    "**kwargs -These are Keyword Arguments."
   ]
  },
  {
   "cell_type": "code",
   "execution_count": 14,
   "metadata": {},
   "outputs": [
    {
     "name": "stdout",
     "output_type": "stream",
     "text": [
      "['PYTHON', 'FUNCTIONS', 'TUTORIAL']\n",
      "[['First', 'Python'], ['Second', 'Functions'], ['Third', 'Tutorial']]\n"
     ]
    }
   ],
   "source": [
    "# Python code to demonstrate the use of variable-length arguments       \n",
    "# Defining a function    \n",
    "def function( *args_list ):    \n",
    "    ans = []    \n",
    "    for l in args_list:    \n",
    "        ans.append( l.upper() )    \n",
    "    return ans    \n",
    "# Passing args arguments    \n",
    "object = function('Python', 'Functions', 'tutorial')    \n",
    "print( object )    \n",
    "    \n",
    "# defining a function    \n",
    "def function( **kargs_list ):    \n",
    "    ans = []    \n",
    "    for key, value in kargs_list.items():    \n",
    "        ans.append([key, value])    \n",
    "    return ans    \n",
    "# Paasing kwargs arguments    \n",
    "object = function(First = \"Python\", Second = \"Functions\", Third = \"Tutorial\")    \n",
    "print(object)   "
   ]
  },
  {
   "cell_type": "markdown",
   "metadata": {},
   "source": [
    "# The Anonymous Functions"
   ]
  },
  {
   "cell_type": "code",
   "execution_count": 4,
   "metadata": {},
   "outputs": [
    {
     "name": "stdout",
     "output_type": "stream",
     "text": [
      "Value of the function is :  50\n",
      "Value of the function is :  90\n"
     ]
    }
   ],
   "source": [
    "lambda_ = lambda argument1, argument2: argument1 + argument2;  \n",
    "print( \"Value of the function is : \", lambda_( 20, 30 ) )    \n",
    "print( \"Value of the function is : \", lambda_( 40, 50 ) )    "
   ]
  },
  {
   "cell_type": "code",
   "execution_count": 7,
   "metadata": {},
   "outputs": [
    {
     "name": "stdout",
     "output_type": "stream",
     "text": [
      "Value of the function is :  -10\n",
      "Value of the function is :  -10\n"
     ]
    },
    {
     "data": {
      "text/plain": [
       "function"
      ]
     },
     "execution_count": 7,
     "metadata": {},
     "output_type": "execute_result"
    }
   ],
   "source": [
    "sub=lambda a1,a2:a1-a2;\n",
    "print( \"Value of the function is : \", sub( 20, 30 ) )    \n",
    "print( \"Value of the function is : \", sub( 40, 50 ) )   \n",
    "(type(sub))"
   ]
  },
  {
   "cell_type": "markdown",
   "metadata": {},
   "source": [
    "# return Statement"
   ]
  },
  {
   "cell_type": "code",
   "execution_count": 17,
   "metadata": {},
   "outputs": [
    {
     "name": "stdout",
     "output_type": "stream",
     "text": [
      "With return statement\n",
      "2704\n",
      "Without return statement\n",
      "None\n"
     ]
    }
   ],
   "source": [
    "# Python code to demonstrate the use of return statements      \n",
    "# Defining a function with return statement    \n",
    "def square( num ):    \n",
    "    return num**2    \n",
    "     \n",
    "# Calling function and passing arguments.    \n",
    "print( \"With return statement\" )    \n",
    "print( square( 52 ) )    \n",
    "    \n",
    "# Defining a function without return statement     \n",
    "def square( num ):    \n",
    "     num**2     \n",
    "    \n",
    "# Calling function and passing arguments.    \n",
    "print( \"Without return statement\" )    \n",
    "print( square( 52 ) )   "
   ]
  },
  {
   "cell_type": "markdown",
   "metadata": {},
   "source": [
    "# Scope and Lifetime of Variables"
   ]
  },
  {
   "cell_type": "code",
   "execution_count": 18,
   "metadata": {},
   "outputs": [
    {
     "name": "stdout",
     "output_type": "stream",
     "text": [
      "Value of num inside the function:  50\n",
      "Value of num outside the function: 10\n"
     ]
    }
   ],
   "source": [
    "# Python code to demonstrate scope and lifetime of variables  \n",
    "#defining a function to print a number.    \n",
    "def number( ):    \n",
    "    num = 50    \n",
    "    print( \"Value of num inside the function: \", num)    \n",
    "    \n",
    "num = 10    \n",
    "number()    \n",
    "print( \"Value of num outside the function:\", num)    "
   ]
  },
  {
   "cell_type": "code",
   "execution_count": null,
   "metadata": {},
   "outputs": [],
   "source": []
  }
 ],
 "metadata": {
  "kernelspec": {
   "display_name": "Python 3 (ipykernel)",
   "language": "python",
   "name": "python3"
  },
  "language_info": {
   "codemirror_mode": {
    "name": "ipython",
    "version": 3
   },
   "file_extension": ".py",
   "mimetype": "text/x-python",
   "name": "python",
   "nbconvert_exporter": "python",
   "pygments_lexer": "ipython3",
   "version": "3.9.13"
  }
 },
 "nbformat": 4,
 "nbformat_minor": 4
}
