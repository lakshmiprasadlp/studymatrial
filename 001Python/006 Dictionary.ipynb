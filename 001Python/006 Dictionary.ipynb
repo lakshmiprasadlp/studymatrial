{
 "cells": [
  {
   "cell_type": "raw",
   "id": "f490ae8d",
   "metadata": {},
   "source": [
    "Dictionaries are used to store data values in key:value pairs.\n",
    "\n",
    "A dictionary is a collection which is ordered*, changeable and do not key allow duplicates."
   ]
  },
  {
   "cell_type": "markdown",
   "id": "5911ca60",
   "metadata": {},
   "source": [
    "# Creating the Dictionary"
   ]
  },
  {
   "cell_type": "code",
   "execution_count": 9,
   "id": "52172d27",
   "metadata": {},
   "outputs": [
    {
     "name": "stdout",
     "output_type": "stream",
     "text": [
      "Empty Dictionary: \n",
      "{}\n",
      "\n",
      "Create Dictionary by using  dict(): \n",
      "{1: 'Microsoft', 2: 'Google', 3: 'Facebook'}\n",
      "\n",
      "Dictionary with each item as a pair: \n",
      "{4: 'Praneeth', 2: 'Varma'}\n"
     ]
    }
   ],
   "source": [
    "# Creating an empty Dictionary     \n",
    "Dict = {}     \n",
    "print(\"Empty Dictionary: \")     \n",
    "print(Dict)     \n",
    "    \n",
    "# Creating a Dictionary     \n",
    "# with dict() method     \n",
    "Dict = dict({1: 'Microsoft', 2: 'Google', 3:'Facebook'})     \n",
    "print(\"\\nCreate Dictionary by using  dict(): \")     \n",
    "print(Dict)     \n",
    "    \n",
    "# Creating a Dictionary     \n",
    "# with each item as a Pair     \n",
    "Dict = dict([(4, 'Praneeth'), (2, 'Varma')])     \n",
    "print(\"\\nDictionary with each item as a pair: \")     \n",
    "print(Dict)  "
   ]
  },
  {
   "cell_type": "markdown",
   "id": "bd1e6854",
   "metadata": {},
   "source": [
    "# Accessing the dictionary values"
   ]
  },
  {
   "cell_type": "code",
   "execution_count": 16,
   "id": "ed465fdd",
   "metadata": {},
   "outputs": [
    {
     "name": "stdout",
     "output_type": "stream",
     "text": [
      "<class 'dict'>\n",
      "printing Employee data .... \n",
      "Name : David\n",
      "Age : 30\n",
      "Salary : 55000\n",
      "Company : GOOGLE\n"
     ]
    }
   ],
   "source": [
    "Employee = {\"Name\": \"David\", \"Age\": 30, \"salary\":55000,\"Company\":\"GOOGLE\"}    \n",
    "print(type(Employee))    \n",
    "print(\"printing Employee data .... \")    \n",
    "print(\"Name : %s\" %Employee[\"Name\"])    \n",
    "print(\"Age : %d\" %Employee[\"Age\"])    \n",
    "print(\"Salary : %d\" %Employee[\"salary\"])    \n",
    "print(\"Company : %s\" %Employee[\"Company\"])    \n"
   ]
  },
  {
   "cell_type": "markdown",
   "id": "138a31b9",
   "metadata": {},
   "source": [
    "# Dictionary methodes"
   ]
  },
  {
   "cell_type": "code",
   "execution_count": 19,
   "id": "d96c67c4",
   "metadata": {},
   "outputs": [
    {
     "name": "stdout",
     "output_type": "stream",
     "text": [
      "dict_keys(['Name', 'Age', 'salary', 'Company'])\n"
     ]
    }
   ],
   "source": [
    "print(Employee.keys())\n",
    "print(list(Employee.keys()))\n",
    "print(set(Employee.keys()))\n",
    "print(tuple(Employee.keys()))"
   ]
  },
  {
   "cell_type": "code",
   "execution_count": 25,
   "id": "67496139",
   "metadata": {},
   "outputs": [
    {
     "name": "stdout",
     "output_type": "stream",
     "text": [
      "dict_values(['David', 30, 55000, 'GOOGLE'])\n",
      "['David', 30, 55000, 'GOOGLE']\n",
      "{55000, 'David', 'GOOGLE', 30}\n",
      "('David', 30, 55000, 'GOOGLE')\n"
     ]
    }
   ],
   "source": [
    "print(Employee.values())\n",
    "print(list(Employee.values()))\n",
    "print(set(Employee.values()))\n",
    "print(tuple(Employee.values()))"
   ]
  },
  {
   "cell_type": "code",
   "execution_count": 26,
   "id": "9ab4f884",
   "metadata": {},
   "outputs": [
    {
     "name": "stdout",
     "output_type": "stream",
     "text": [
      "dict_items([('Name', 'David'), ('Age', 30), ('salary', 55000), ('Company', 'GOOGLE')])\n",
      "[('Name', 'David'), ('Age', 30), ('salary', 55000), ('Company', 'GOOGLE')]\n",
      "{('Name', 'David'), ('Age', 30), ('salary', 55000), ('Company', 'GOOGLE')}\n",
      "(('Name', 'David'), ('Age', 30), ('salary', 55000), ('Company', 'GOOGLE'))\n"
     ]
    }
   ],
   "source": [
    "print(Employee.items())\n",
    "print(list(Employee.items()))\n",
    "print(set(Employee.items()))\n",
    "print(tuple(Employee.items()))"
   ]
  },
  {
   "cell_type": "code",
   "execution_count": 29,
   "id": "580ca766",
   "metadata": {},
   "outputs": [],
   "source": [
    "Employee.get(\"key\")"
   ]
  },
  {
   "cell_type": "code",
   "execution_count": null,
   "id": "4b6eb97d",
   "metadata": {},
   "outputs": [],
   "source": [
    "dic.setdefault(key,value)\n",
    "dic.update(dic2)"
   ]
  },
  {
   "cell_type": "markdown",
   "id": "8d48dd6b",
   "metadata": {},
   "source": [
    "# Example - 1:"
   ]
  },
  {
   "cell_type": "code",
   "execution_count": 12,
   "id": "67985026",
   "metadata": {},
   "outputs": [
    {
     "name": "stdout",
     "output_type": "stream",
     "text": [
      "Empty Dictionary: \n",
      "{}\n",
      "\n",
      "Dictionary after adding 3 elements: \n",
      "{'name': 'charan', 'roll no': '20211cst0060', 'sub': 'aiml'}\n",
      "\n",
      "Dictionary after adding 3 elements: \n",
      "{'name': 'charan', 'roll no': '20211cst0060', 'sub': 'aiml', 'Emp_ages': (20, 33, 24)}\n",
      "\n",
      "Updated key value: \n",
      "{'name': 'charan', 'roll no': '20211cst0060', 'sub': 'aiml', 'Emp_ages': (20, 33, 24), 3: 'JavaTpoint'}\n"
     ]
    }
   ],
   "source": [
    "\n",
    "# Creating an empty Dictionary     \n",
    "Dict = {}     \n",
    "print(\"Empty Dictionary: \")     \n",
    "print(Dict)     \n",
    "      \n",
    "# Adding elements to dictionary one at a time     \n",
    "Dict[\"name\"] = 'charan'    \n",
    "Dict[\"roll no\"] = \"20211cst0060\"    \n",
    "Dict[\"sub\"] = 'aiml'    \n",
    "print(\"\\nDictionary after adding 3 elements: \")     \n",
    "print(Dict)     \n",
    "      \n",
    "# Adding set of values      \n",
    "# with a single Key     \n",
    "# The Emp_ages doesn't exist to dictionary    \n",
    "Dict['Emp_ages'] = 20, 33, 24    \n",
    "print(\"\\nDictionary after adding 3 elements: \")     \n",
    "print(Dict)     \n",
    "      \n",
    "# Updating existing Key's Value     \n",
    "Dict[3] = 'JavaTpoint'    \n",
    "print(\"\\nUpdated key value: \")     \n",
    "print(Dict)  "
   ]
  },
  {
   "cell_type": "markdown",
   "id": "d80260f8",
   "metadata": {},
   "source": [
    "# Example - 2:"
   ]
  },
  {
   "cell_type": "code",
   "execution_count": 13,
   "id": "06dc789f",
   "metadata": {},
   "outputs": [
    {
     "name": "stdout",
     "output_type": "stream",
     "text": [
      "<class 'dict'>\n",
      "printing Employee data .... \n",
      "{'Name': 'David', 'Age': 30, 'salary': 55000, 'Company': 'GOOGLE'}\n",
      "Enter the details of the new employee....\n",
      "Name: lp\n",
      "Age: 21\n",
      "Salary: 99909\n",
      "Company:0\n",
      "printing the new data\n",
      "{'Name': 'lp', 'Age': 21, 'salary': 99909, 'Company': '0'}\n"
     ]
    }
   ],
   "source": [
    "Employee = {\"Name\": \"David\", \"Age\": 30, \"salary\":55000,\"Company\":\"GOOGLE\"}      \n",
    "print(type(Employee))      \n",
    "print(\"printing Employee data .... \")      \n",
    "print(Employee)      \n",
    "print(\"Enter the details of the new employee....\");      \n",
    "Employee[\"Name\"] = input(\"Name: \");      \n",
    "Employee[\"Age\"] = int(input(\"Age: \"));      \n",
    "Employee[\"salary\"] = int(input(\"Salary: \"));      \n",
    "Employee[\"Company\"] = input(\"Company:\");      \n",
    "print(\"printing the new data\");      \n",
    "print(Employee)  "
   ]
  },
  {
   "cell_type": "code",
   "execution_count": 14,
   "id": "51886771",
   "metadata": {},
   "outputs": [
    {
     "name": "stdout",
     "output_type": "stream",
     "text": [
      "<class 'dict'>\n",
      "printing Employee data .... \n",
      "{'Name': 'David', 'Age': 30, 'salary': 55000, 'Company': 'GOOGLE'}\n",
      "Deleting some of the employee data\n",
      "printing the modified information \n",
      "{'Age': 30, 'salary': 55000}\n",
      "Deleting the dictionary: Employee\n",
      "Lets try to print it again \n"
     ]
    },
    {
     "ename": "NameError",
     "evalue": "name 'Employee' is not defined",
     "output_type": "error",
     "traceback": [
      "\u001b[1;31m---------------------------------------------------------------------------\u001b[0m",
      "\u001b[1;31mNameError\u001b[0m                                 Traceback (most recent call last)",
      "\u001b[1;32m~\\AppData\\Local\\Temp\\ipykernel_22700\\1303424061.py\u001b[0m in \u001b[0;36m<module>\u001b[1;34m\u001b[0m\n\u001b[0;32m     11\u001b[0m \u001b[1;32mdel\u001b[0m \u001b[0mEmployee\u001b[0m\u001b[1;33m\u001b[0m\u001b[1;33m\u001b[0m\u001b[0m\n\u001b[0;32m     12\u001b[0m \u001b[0mprint\u001b[0m\u001b[1;33m(\u001b[0m\u001b[1;34m\"Lets try to print it again \"\u001b[0m\u001b[1;33m)\u001b[0m\u001b[1;33m;\u001b[0m\u001b[1;33m\u001b[0m\u001b[1;33m\u001b[0m\u001b[0m\n\u001b[1;32m---> 13\u001b[1;33m \u001b[0mprint\u001b[0m\u001b[1;33m(\u001b[0m\u001b[0mEmployee\u001b[0m\u001b[1;33m)\u001b[0m\u001b[1;33m\u001b[0m\u001b[1;33m\u001b[0m\u001b[0m\n\u001b[0m",
      "\u001b[1;31mNameError\u001b[0m: name 'Employee' is not defined"
     ]
    }
   ],
   "source": [
    "Employee = {\"Name\": \"David\", \"Age\": 30, \"salary\":55000,\"Company\":\"GOOGLE\"}       \n",
    "print(type(Employee))      \n",
    "print(\"printing Employee data .... \")      \n",
    "print(Employee)      \n",
    "print(\"Deleting some of the employee data\")       \n",
    "del Employee[\"Name\"]      \n",
    "del Employee[\"Company\"]      \n",
    "print(\"printing the modified information \")      \n",
    "print(Employee)      \n",
    "print(\"Deleting the dictionary: Employee\");      \n",
    "del Employee      \n",
    "print(\"Lets try to print it again \");      \n",
    "print(Employee)  "
   ]
  },
  {
   "cell_type": "code",
   "execution_count": null,
   "id": "3df42a1d",
   "metadata": {},
   "outputs": [],
   "source": []
  }
 ],
 "metadata": {
  "kernelspec": {
   "display_name": "Python 3 (ipykernel)",
   "language": "python",
   "name": "python3"
  },
  "language_info": {
   "codemirror_mode": {
    "name": "ipython",
    "version": 3
   },
   "file_extension": ".py",
   "mimetype": "text/x-python",
   "name": "python",
   "nbconvert_exporter": "python",
   "pygments_lexer": "ipython3",
   "version": "3.9.13"
  }
 },
 "nbformat": 4,
 "nbformat_minor": 5
}
